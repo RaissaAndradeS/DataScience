{
 "cells": [
  {
   "cell_type": "markdown",
   "metadata": {
    "id": "nhK6mEZD5duG"
   },
   "source": [
    "# Numpy"
   ]
  },
  {
   "cell_type": "markdown",
   "metadata": {
    "id": "jDFIlB9H5duK"
   },
   "source": [
    "**OBJETIVO**: O objetivo deste notebook é explicar como a biblioteca numpy funciona e as principais operações com arrays"
   ]
  },
  {
   "cell_type": "markdown",
   "metadata": {
    "id": "lgK-hdeI5duL"
   },
   "source": [
    "---"
   ]
  },
  {
   "cell_type": "code",
   "execution_count": null,
   "metadata": {
    "ExecuteTime": {
     "end_time": "2021-09-17T18:30:28.816304Z",
     "start_time": "2021-09-17T18:30:28.381461Z"
    },
    "colab": {
     "base_uri": "https://localhost:8080/"
    },
    "executionInfo": {
     "elapsed": 905,
     "status": "ok",
     "timestamp": 1643131497113,
     "user": {
      "displayName": "Ignorância Zero",
      "photoUrl": "https://lh3.googleusercontent.com/a/default-user=s64",
      "userId": "00329270583361032720"
     },
     "user_tz": 180
    },
    "id": "c9P9KIqufTzX",
    "outputId": "f285b169-734a-437a-94ab-82688d7140de"
   },
   "outputs": [],
   "source": [
    "import os\n",
    "import numpy as np\n",
    "import pandas as pd\n",
    "\n",
    "from pathlib import Path\n",
    "\n",
    "%config Completer.use_jedi = False"
   ]
  },
  {
   "cell_type": "markdown",
   "metadata": {
    "id": "1Hfd3ztV5duS"
   },
   "source": [
    "---"
   ]
  },
  {
   "cell_type": "markdown",
   "metadata": {
    "id": "Bjahvxem5dud"
   },
   "source": [
    "## Criação "
   ]
  },
  {
   "cell_type": "markdown",
   "metadata": {
    "id": "TYBFHGFvfTzc"
   },
   "source": [
    "Arrays são objetos que armazenam estruturas sequencias de dados de tipo e tamanhos determinado que apontam para uma sequência de dados na memória RAM. Em Python, a biblioteca que lida com essas estruturas é o Numpy que não só oferece as funcionalidades clássicas de um array (que pode ser vista em C, C++, Java, ...), mas também propriedades vetoriais utilizadas em operações de algebra linear"
   ]
  },
  {
   "cell_type": "markdown",
   "metadata": {
    "id": "7976rCLF6CZO"
   },
   "source": [
    "Criar um array é uma tarefa simples, que pode ser realizada por meio de uma lista como abaixo"
   ]
  },
  {
   "cell_type": "code",
   "execution_count": null,
   "metadata": {
    "ExecuteTime": {
     "end_time": "2021-09-17T18:30:29.360339Z",
     "start_time": "2021-09-17T18:30:29.340422Z"
    },
    "colab": {
     "base_uri": "https://localhost:8080/"
    },
    "executionInfo": {
     "elapsed": 184,
     "status": "ok",
     "timestamp": 1642886287172,
     "user": {
      "displayName": "Ignorância Zero",
      "photoUrl": "https://lh3.googleusercontent.com/a/default-user=s64",
      "userId": "00329270583361032720"
     },
     "user_tz": 180
    },
    "id": "MNP3QjWF5dud",
    "outputId": "a22c2d95-8246-40c1-8bed-023cd21587b5"
   },
   "outputs": [],
   "source": [
    "array = np.array([1, 2, 3, 4, 5])\n",
    "array"
   ]
  },
  {
   "cell_type": "code",
   "execution_count": null,
   "metadata": {
    "colab": {
     "base_uri": "https://localhost:8080/"
    },
    "executionInfo": {
     "elapsed": 192,
     "status": "ok",
     "timestamp": 1642886285019,
     "user": {
      "displayName": "Ignorância Zero",
      "photoUrl": "https://lh3.googleusercontent.com/a/default-user=s64",
      "userId": "00329270583361032720"
     },
     "user_tz": 180
    },
    "id": "QVJ-vRZupXws",
    "outputId": "858cbe23-4fc9-402d-a80e-72aedbd4355c"
   },
   "outputs": [],
   "source": [
    "matriz = np.array([[1, 2, 3], [4, 5, 6]])\n",
    "matriz"
   ]
  },
  {
   "cell_type": "markdown",
   "metadata": {
    "id": "Su0b01RRfTzi"
   },
   "source": [
    "Ao fazer isso estaremos alocando os valores selecionados dentro da RAM do computador em endereços sequenciais, igualmente espaçados de acordo com o tipo de dado do array.\n",
    "\n",
    "<img src=\"https://miro.medium.com/max/497/1*-ImKrqrT14UlG6wMpAEIJQ.png\" />"
   ]
  },
  {
   "cell_type": "markdown",
   "metadata": {
    "id": "lEMrz_INfTzj"
   },
   "source": [
    "Dados isso é fácil perceber que um array tem as seguintes características que podem ser acessadas na forma de atributos deste objeto:\n",
    "\n",
    "- dtype: O tipo de dados do array\n",
    "- shape: O tamanho do array em linhas e colunas\n",
    "- size: O tamanho do array em quantidade de elementos\n",
    "- itemsize: O consumo de memória de cada elemento do array (em bytes)\n",
    "- strides: Uma distancia em bytes entre os elementos armazenados na memória"
   ]
  },
  {
   "cell_type": "code",
   "execution_count": null,
   "metadata": {
    "ExecuteTime": {
     "end_time": "2021-09-17T18:30:30.104860Z",
     "start_time": "2021-09-17T18:30:30.092892Z"
    },
    "colab": {
     "base_uri": "https://localhost:8080/"
    },
    "executionInfo": {
     "elapsed": 227,
     "status": "ok",
     "timestamp": 1642886379975,
     "user": {
      "displayName": "Ignorância Zero",
      "photoUrl": "https://lh3.googleusercontent.com/a/default-user=s64",
      "userId": "00329270583361032720"
     },
     "user_tz": 180
    },
    "id": "Ie5x6Q_bfTzk",
    "outputId": "02f88324-3b31-4ac2-b9f4-8a6bf2439c5d"
   },
   "outputs": [],
   "source": [
    "print(\n",
    "    f\"array: dtype={array.dtype} | shape={array.shape}| size={array.size} \"\n",
    "    f\"| itemsize={array.itemsize} | strides={array.strides}\"\n",
    ")\n",
    "\n",
    "print(\n",
    "    f\"matriz: dtype={matriz.dtype} | shape={matriz.shape} | size={matriz.size} \"\n",
    "    f\"| itemsize={matriz.itemsize} | strides={matriz.strides}\"\n",
    ")"
   ]
  },
  {
   "cell_type": "markdown",
   "metadata": {
    "id": "d5Gn-74CfTzl"
   },
   "source": [
    "Dado que inicializações de diferentes tipos de array são bastante comuns, a biblioteca contém uma série de funcionalidades que permitem criar arrays com diferentes tipos de dados"
   ]
  },
  {
   "cell_type": "markdown",
   "metadata": {
    "id": "__h88Wqs6n6N"
   },
   "source": [
    "**np.zeros** -> Cria um array preenchido com zeros"
   ]
  },
  {
   "cell_type": "code",
   "execution_count": null,
   "metadata": {
    "ExecuteTime": {
     "end_time": "2021-09-17T18:30:30.652986Z",
     "start_time": "2021-09-17T18:30:30.637028Z"
    },
    "colab": {
     "base_uri": "https://localhost:8080/"
    },
    "executionInfo": {
     "elapsed": 230,
     "status": "ok",
     "timestamp": 1642886623856,
     "user": {
      "displayName": "Ignorância Zero",
      "photoUrl": "https://lh3.googleusercontent.com/a/default-user=s64",
      "userId": "00329270583361032720"
     },
     "user_tz": 180
    },
    "id": "7t6RuQzw6nM0",
    "outputId": "50b53e5c-9fb5-4217-f353-cebd12ef1541"
   },
   "outputs": [],
   "source": [
    "np.zeros(shape=(3, 2))"
   ]
  },
  {
   "cell_type": "markdown",
   "metadata": {
    "id": "-VTRQoSP6zuh"
   },
   "source": [
    "**np.ones** -> Cria um array preenchido com um's"
   ]
  },
  {
   "cell_type": "code",
   "execution_count": null,
   "metadata": {
    "ExecuteTime": {
     "end_time": "2021-09-17T18:30:31.011758Z",
     "start_time": "2021-09-17T18:30:31.003807Z"
    },
    "colab": {
     "base_uri": "https://localhost:8080/"
    },
    "executionInfo": {
     "elapsed": 197,
     "status": "ok",
     "timestamp": 1642886643207,
     "user": {
      "displayName": "Ignorância Zero",
      "photoUrl": "https://lh3.googleusercontent.com/a/default-user=s64",
      "userId": "00329270583361032720"
     },
     "user_tz": 180
    },
    "id": "pWI70buA68Nx",
    "outputId": "3d440c07-9ced-4253-a406-42c84ec4c1fd"
   },
   "outputs": [],
   "source": [
    "np.ones(shape=(3, ))"
   ]
  },
  {
   "cell_type": "markdown",
   "metadata": {
    "id": "NSHhgQHU_e5q"
   },
   "source": [
    "**np.eye** -> Cria a matriz identidade com o tamanho específicado"
   ]
  },
  {
   "cell_type": "code",
   "execution_count": null,
   "metadata": {
    "ExecuteTime": {
     "end_time": "2021-09-17T18:30:31.356395Z",
     "start_time": "2021-09-17T18:30:31.340438Z"
    },
    "colab": {
     "base_uri": "https://localhost:8080/"
    },
    "executionInfo": {
     "elapsed": 210,
     "status": "ok",
     "timestamp": 1642886683874,
     "user": {
      "displayName": "Ignorância Zero",
      "photoUrl": "https://lh3.googleusercontent.com/a/default-user=s64",
      "userId": "00329270583361032720"
     },
     "user_tz": 180
    },
    "id": "OtGck9b7_eMP",
    "outputId": "e56a8cbb-5712-471d-91b6-0a4b4657cc87"
   },
   "outputs": [],
   "source": [
    "np.eye(4)"
   ]
  },
  {
   "cell_type": "markdown",
   "metadata": {
    "id": "iWKH3Drs6_Rm"
   },
   "source": [
    "**np.arange** -> Mesma coisa que a função range, só que para arrays"
   ]
  },
  {
   "cell_type": "code",
   "execution_count": null,
   "metadata": {
    "ExecuteTime": {
     "end_time": "2021-09-17T18:30:31.700950Z",
     "start_time": "2021-09-17T18:30:31.691975Z"
    },
    "colab": {
     "base_uri": "https://localhost:8080/"
    },
    "executionInfo": {
     "elapsed": 215,
     "status": "ok",
     "timestamp": 1642886706107,
     "user": {
      "displayName": "Ignorância Zero",
      "photoUrl": "https://lh3.googleusercontent.com/a/default-user=s64",
      "userId": "00329270583361032720"
     },
     "user_tz": 180
    },
    "id": "_qZ5eFqS6-zj",
    "outputId": "3e127696-f76e-4149-cdf4-8d8599892480"
   },
   "outputs": [],
   "source": [
    "np.arange(1, 10, 2)"
   ]
  },
  {
   "cell_type": "markdown",
   "metadata": {
    "id": "RFOHITf17MKa"
   },
   "source": [
    "**np.linspace** -> Cria um array entre dois números espaçados linearmente"
   ]
  },
  {
   "cell_type": "code",
   "execution_count": null,
   "metadata": {
    "ExecuteTime": {
     "end_time": "2021-09-17T18:30:32.072327Z",
     "start_time": "2021-09-17T18:30:32.060359Z"
    },
    "colab": {
     "base_uri": "https://localhost:8080/"
    },
    "executionInfo": {
     "elapsed": 195,
     "status": "ok",
     "timestamp": 1642886755382,
     "user": {
      "displayName": "Ignorância Zero",
      "photoUrl": "https://lh3.googleusercontent.com/a/default-user=s64",
      "userId": "00329270583361032720"
     },
     "user_tz": 180
    },
    "id": "pL0Sgs367L3_",
    "outputId": "cf400232-a850-48b0-c39a-690d1baa9592"
   },
   "outputs": [],
   "source": [
    "np.linspace(5, 10, num=5)"
   ]
  },
  {
   "cell_type": "markdown",
   "metadata": {
    "id": "2RRkGSzx78OF"
   },
   "source": [
    "**np.logspace** -> Cria um array entre dois números espaçados logaritimicamente"
   ]
  },
  {
   "cell_type": "code",
   "execution_count": null,
   "metadata": {
    "ExecuteTime": {
     "end_time": "2021-09-17T18:30:32.418116Z",
     "start_time": "2021-09-17T18:30:32.412131Z"
    },
    "colab": {
     "base_uri": "https://localhost:8080/"
    },
    "executionInfo": {
     "elapsed": 205,
     "status": "ok",
     "timestamp": 1642886897691,
     "user": {
      "displayName": "Ignorância Zero",
      "photoUrl": "https://lh3.googleusercontent.com/a/default-user=s64",
      "userId": "00329270583361032720"
     },
     "user_tz": 180
    },
    "id": "9Zpdt6wj7PMa",
    "outputId": "df0aadf2-0d00-492b-8cef-b119948897fe"
   },
   "outputs": [],
   "source": [
    "np.logspace(0, 1, 3)"
   ]
  },
  {
   "cell_type": "markdown",
   "metadata": {
    "id": "m9P0ay7K_OSK"
   },
   "source": [
    "**np.random.int** -> Cria um array de valores aleatóries entre um valor menor e maior (exclusivo)"
   ]
  },
  {
   "cell_type": "code",
   "execution_count": null,
   "metadata": {
    "ExecuteTime": {
     "end_time": "2021-09-17T18:30:32.792392Z",
     "start_time": "2021-09-17T18:30:32.780424Z"
    },
    "colab": {
     "base_uri": "https://localhost:8080/"
    },
    "executionInfo": {
     "elapsed": 204,
     "status": "ok",
     "timestamp": 1642886955341,
     "user": {
      "displayName": "Ignorância Zero",
      "photoUrl": "https://lh3.googleusercontent.com/a/default-user=s64",
      "userId": "00329270583361032720"
     },
     "user_tz": 180
    },
    "id": "Nq7tk-0V_OCP",
    "outputId": "fb2b71f2-1d8f-41e1-d6a9-9271405e105f"
   },
   "outputs": [],
   "source": [
    "np.random.randint(0, 10, size=(5, 5))"
   ]
  },
  {
   "cell_type": "markdown",
   "metadata": {
    "id": "xxxyJPsu8RvF"
   },
   "source": [
    "**np.random.normal** -> Cria um array aleatório com valores baseados em uma distribuição normal"
   ]
  },
  {
   "cell_type": "code",
   "execution_count": null,
   "metadata": {
    "ExecuteTime": {
     "end_time": "2021-09-17T18:30:33.178705Z",
     "start_time": "2021-09-17T18:30:33.164741Z"
    },
    "colab": {
     "base_uri": "https://localhost:8080/"
    },
    "executionInfo": {
     "elapsed": 254,
     "status": "ok",
     "timestamp": 1642887032405,
     "user": {
      "displayName": "Ignorância Zero",
      "photoUrl": "https://lh3.googleusercontent.com/a/default-user=s64",
      "userId": "00329270583361032720"
     },
     "user_tz": 180
    },
    "id": "vbPD95nf8RdP",
    "outputId": "e961074d-71bf-4c4b-f823-ec311c2dd169"
   },
   "outputs": [],
   "source": [
    "np.random.normal(1, 2, 10)"
   ]
  },
  {
   "cell_type": "markdown",
   "metadata": {
    "id": "8eagUl3yfTzw"
   },
   "source": [
    "É interassante notar que algumas dessas funções não permitem passar o tamanho do array (como np.arange), por isso muitas vezes é comum combina-las com o método reshape"
   ]
  },
  {
   "cell_type": "code",
   "execution_count": null,
   "metadata": {
    "ExecuteTime": {
     "end_time": "2021-09-17T18:30:33.522347Z",
     "start_time": "2021-09-17T18:30:33.516364Z"
    },
    "colab": {
     "base_uri": "https://localhost:8080/"
    },
    "executionInfo": {
     "elapsed": 248,
     "status": "ok",
     "timestamp": 1642887095633,
     "user": {
      "displayName": "Ignorância Zero",
      "photoUrl": "https://lh3.googleusercontent.com/a/default-user=s64",
      "userId": "00329270583361032720"
     },
     "user_tz": 180
    },
    "id": "hgoc8W_xfTzw",
    "outputId": "37b56c81-bc13-489e-94e2-929f366ae586"
   },
   "outputs": [],
   "source": [
    "a = np.arange(12)\n",
    "a = a.reshape(3, 4)\n",
    "a"
   ]
  },
  {
   "cell_type": "markdown",
   "metadata": {
    "id": "_Kt9R3AEfTzw"
   },
   "source": [
    "---"
   ]
  },
  {
   "cell_type": "markdown",
   "metadata": {
    "id": "XW5-JSe3fTzx"
   },
   "source": [
    "**Exercício** \n",
    "\n",
    "Gere uma matriz 4x4 de números igualmente espaçados entre 5 e 11 e calcule o total de memória utilizado para armazenar este array"
   ]
  },
  {
   "cell_type": "code",
   "execution_count": null,
   "metadata": {
    "ExecuteTime": {
     "end_time": "2021-09-16T14:50:30.980653Z",
     "start_time": "2021-09-16T14:50:30.963699Z"
    },
    "id": "6BHeSn7ofTzx",
    "solution2": "hidden",
    "solution2_first": true
   },
   "outputs": [],
   "source": []
  },
  {
   "cell_type": "code",
   "execution_count": null,
   "metadata": {
    "cellView": "form",
    "id": "4RDUZ0W8fTzx",
    "solution2": "hidden"
   },
   "outputs": [],
   "source": [
    "#@title Resposta\n",
    "arr = np.linspace(5, 11, num=16).reshape(4, 4)\n",
    "print(arr)\n",
    "print(\"Bytes:\", arr.size * arr.itemsize)"
   ]
  },
  {
   "cell_type": "markdown",
   "metadata": {
    "id": "Eja3bFtXfTzy"
   },
   "source": [
    "---"
   ]
  },
  {
   "cell_type": "markdown",
   "metadata": {
    "id": "5foiZBoD_oMR"
   },
   "source": [
    "## Tipagem"
   ]
  },
  {
   "cell_type": "markdown",
   "metadata": {
    "id": "QiwowYVP_n9u"
   },
   "source": [
    "Uma das diferenças mais gritantes entre arrays e listas é sua tipagem. Enquanto listas podem conter múltiplos tipos de dados (inteiros, strings, floats, etc) arrays tendem a possuir tipagem fixa e tal tipagem pode ser modificada utilizando o método astype"
   ]
  },
  {
   "cell_type": "code",
   "execution_count": null,
   "metadata": {
    "colab": {
     "base_uri": "https://localhost:8080/"
    },
    "executionInfo": {
     "elapsed": 215,
     "status": "ok",
     "timestamp": 1642887327545,
     "user": {
      "displayName": "Ignorância Zero",
      "photoUrl": "https://lh3.googleusercontent.com/a/default-user=s64",
      "userId": "00329270583361032720"
     },
     "user_tz": 180
    },
    "id": "Hu9pPAiMxdAJ",
    "outputId": "27255fc1-cf7f-4e67-b402-3311b7a37509"
   },
   "outputs": [],
   "source": [
    "arr = np.array([1, 2, 3])\n",
    "print(arr.dtype, arr)"
   ]
  },
  {
   "cell_type": "code",
   "execution_count": null,
   "metadata": {
    "colab": {
     "base_uri": "https://localhost:8080/"
    },
    "executionInfo": {
     "elapsed": 207,
     "status": "ok",
     "timestamp": 1642887347578,
     "user": {
      "displayName": "Ignorância Zero",
      "photoUrl": "https://lh3.googleusercontent.com/a/default-user=s64",
      "userId": "00329270583361032720"
     },
     "user_tz": 180
    },
    "id": "w_-dBNohtzq4",
    "outputId": "3498e1ba-c9cc-4da9-89d0-c4f0940a110e"
   },
   "outputs": [],
   "source": [
    "arr = np.array([1, 2, 3])\n",
    "arr = arr.astype(\"float\")\n",
    "print(arr.dtype, arr)"
   ]
  },
  {
   "cell_type": "code",
   "execution_count": null,
   "metadata": {
    "colab": {
     "base_uri": "https://localhost:8080/"
    },
    "executionInfo": {
     "elapsed": 235,
     "status": "ok",
     "timestamp": 1642887437526,
     "user": {
      "displayName": "Ignorância Zero",
      "photoUrl": "https://lh3.googleusercontent.com/a/default-user=s64",
      "userId": "00329270583361032720"
     },
     "user_tz": 180
    },
    "id": "28F9_Sb3t5q3",
    "outputId": "4d57c2ca-272e-48aa-b5fa-153c18e4fea2"
   },
   "outputs": [],
   "source": [
    "arr = np.array([1, 2, 3], dtype=np.uint8)\n",
    "print(arr.dtype, arr)"
   ]
  },
  {
   "cell_type": "code",
   "execution_count": null,
   "metadata": {
    "id": "aItrf20Yuj5Y"
   },
   "outputs": [],
   "source": [
    "arr = np.array([\"ola\", 2.1, [2, 3, 4]], dtype=\"object\")"
   ]
  },
  {
   "cell_type": "code",
   "execution_count": null,
   "metadata": {
    "colab": {
     "base_uri": "https://localhost:8080/"
    },
    "executionInfo": {
     "elapsed": 210,
     "status": "ok",
     "timestamp": 1642887582695,
     "user": {
      "displayName": "Ignorância Zero",
      "photoUrl": "https://lh3.googleusercontent.com/a/default-user=s64",
      "userId": "00329270583361032720"
     },
     "user_tz": 180
    },
    "id": "qKz5w7G_uvw3",
    "outputId": "7045649b-d429-4aa0-8c12-b07d1a99b40c"
   },
   "outputs": [],
   "source": [
    "arr.shape"
   ]
  },
  {
   "cell_type": "markdown",
   "metadata": {
    "id": "XjQGj_bXfTz0"
   },
   "source": [
    "Abaixo temos a lista dos tipos de dados numéricos do numpy\n",
    "\n",
    "<img src=\"https://miro.medium.com/max/1240/1*lbPigku_qn_NeKAHHTGYPg.png\" />"
   ]
  },
  {
   "cell_type": "markdown",
   "metadata": {
    "id": "dcTZ4cEffTz0"
   },
   "source": [
    "---"
   ]
  },
  {
   "cell_type": "markdown",
   "metadata": {
    "id": "jjiS0LL4fTz1"
   },
   "source": [
    "**Exercício** \n",
    "\n",
    "Assumindo que você tenha um array de apenas inteiros, crie uma função que converte-o para o tipo de dado que minimiza seu uso de memória"
   ]
  },
  {
   "cell_type": "code",
   "execution_count": null,
   "metadata": {
    "ExecuteTime": {
     "end_time": "2021-09-17T18:30:37.060660Z",
     "start_time": "2021-09-17T18:30:37.051713Z"
    },
    "id": "GJxhQLftfTz1",
    "solution2": "hidden",
    "solution2_first": true
   },
   "outputs": [],
   "source": [
    "def minimiza_memoria(array: np.ndarray) -> np.ndarray:\n",
    "    \"\"\"\n",
    "    Minimiza o uso de memório de um determinado array\n",
    "    de inteiros\n",
    "    \n",
    "    :param array: array a ser minimizado\n",
    "    :return: array com o tipo ajustado\n",
    "    \"\"\"\n",
    "    pass\n"
   ]
  },
  {
   "cell_type": "code",
   "execution_count": null,
   "metadata": {
    "cellView": "form",
    "id": "8Lq3T2dgfTz1",
    "solution2": "hidden"
   },
   "outputs": [],
   "source": [
    "#@title Resposta\n",
    "def minimiza_memoria(array: np.ndarray) -> np.ndarray:\n",
    "    \"\"\"\n",
    "    Minimiza o uso de memório de um determinado array\n",
    "    de inteiros\n",
    "    \n",
    "    :param array: array a ser minimizado\n",
    "    :return: array com o tipo ajustado\n",
    "    \"\"\"\n",
    "    # cria um dicionário com o uso de memória por bytes\n",
    "    uso = {\n",
    "        8: 127,\n",
    "        16: 32767,\n",
    "        32: 2147483647,\n",
    "    }\n",
    "    \n",
    "    # obtém os valores mínimos e máximos do array\n",
    "    minimo = min(array)\n",
    "    maximo = max(array)\n",
    "    \n",
    "    # cria os parâmetros para a seleção do tipo com base no\n",
    "    # valor mínimo\n",
    "    if minimo > 0:\n",
    "        prefix = \"u\"\n",
    "        menor = lambda m: 0\n",
    "        maior = lambda m: 2 * m + 1\n",
    "    else:\n",
    "        prefix = \"\"\n",
    "        menor = lambda m: -(m + 1)\n",
    "        maior = lambda m: m\n",
    "    \n",
    "    # percorre os diferentes tipos de inteiro e seleciona o mais adequado\n",
    "    for b, m in uso.items():\n",
    "        if minimo >= menor(m) and maximo <= maior(m):\n",
    "            return array.astype(f\"{prefix}int{b}\")\n",
    "        \n",
    "print(minimiza_memoria(np.array([1, 2, 3])).dtype)\n",
    "print(minimiza_memoria(np.array([-1, 2, 3])).dtype)\n",
    "print(minimiza_memoria(np.array([1, 2, 130])).dtype)\n",
    "print(minimiza_memoria(np.array([-1, 2, 130])).dtype)"
   ]
  },
  {
   "cell_type": "markdown",
   "metadata": {
    "id": "YTHtOxwgfTz2"
   },
   "source": [
    "---"
   ]
  },
  {
   "cell_type": "markdown",
   "metadata": {
    "id": "_6364I-L5dud"
   },
   "source": [
    "## Indexação "
   ]
  },
  {
   "cell_type": "markdown",
   "metadata": {
    "id": "1B1YxYy85dur"
   },
   "source": [
    "Tal como listas arrays são objetos indexáveis de maneira similar, de forma que a sintaxe de chaves e os slices funcionam normalmente"
   ]
  },
  {
   "cell_type": "code",
   "execution_count": null,
   "metadata": {
    "colab": {
     "base_uri": "https://localhost:8080/"
    },
    "executionInfo": {
     "elapsed": 223,
     "status": "ok",
     "timestamp": 1642889290669,
     "user": {
      "displayName": "Ignorância Zero",
      "photoUrl": "https://lh3.googleusercontent.com/a/default-user=s64",
      "userId": "00329270583361032720"
     },
     "user_tz": 180
    },
    "id": "Uu5fFzxz0-Wm",
    "outputId": "72d940ae-efd9-43dc-f9c7-20e62c73aa20"
   },
   "outputs": [],
   "source": [
    "array = np.arange(1, 10)\n",
    "matriz = np.random.normal(1, 2, (3, 3))\n",
    "\n",
    "print(array)\n",
    "print(matriz)"
   ]
  },
  {
   "cell_type": "code",
   "execution_count": null,
   "metadata": {
    "colab": {
     "base_uri": "https://localhost:8080/"
    },
    "executionInfo": {
     "elapsed": 196,
     "status": "ok",
     "timestamp": 1642889301010,
     "user": {
      "displayName": "Ignorância Zero",
      "photoUrl": "https://lh3.googleusercontent.com/a/default-user=s64",
      "userId": "00329270583361032720"
     },
     "user_tz": 180
    },
    "id": "a0DGrPvQ1TZH",
    "outputId": "54187024-47ea-465a-ce55-d3ff885ca177"
   },
   "outputs": [],
   "source": [
    "array[0]"
   ]
  },
  {
   "cell_type": "code",
   "execution_count": null,
   "metadata": {
    "colab": {
     "base_uri": "https://localhost:8080/"
    },
    "executionInfo": {
     "elapsed": 200,
     "status": "ok",
     "timestamp": 1642889317655,
     "user": {
      "displayName": "Ignorância Zero",
      "photoUrl": "https://lh3.googleusercontent.com/a/default-user=s64",
      "userId": "00329270583361032720"
     },
     "user_tz": 180
    },
    "id": "MxxeLAsi1VKn",
    "outputId": "ae12f6ba-8852-401b-bb1f-810a27303bcb"
   },
   "outputs": [],
   "source": [
    "matriz[2][-1]"
   ]
  },
  {
   "cell_type": "code",
   "execution_count": null,
   "metadata": {
    "colab": {
     "base_uri": "https://localhost:8080/"
    },
    "executionInfo": {
     "elapsed": 210,
     "status": "ok",
     "timestamp": 1642889323314,
     "user": {
      "displayName": "Ignorância Zero",
      "photoUrl": "https://lh3.googleusercontent.com/a/default-user=s64",
      "userId": "00329270583361032720"
     },
     "user_tz": 180
    },
    "id": "2RH5-BpE1ZMn",
    "outputId": "744d1ceb-ad78-4007-f2d2-51927596ecb2"
   },
   "outputs": [],
   "source": [
    "matriz[1]"
   ]
  },
  {
   "cell_type": "code",
   "execution_count": null,
   "metadata": {
    "colab": {
     "base_uri": "https://localhost:8080/"
    },
    "executionInfo": {
     "elapsed": 202,
     "status": "ok",
     "timestamp": 1642889341623,
     "user": {
      "displayName": "Ignorância Zero",
      "photoUrl": "https://lh3.googleusercontent.com/a/default-user=s64",
      "userId": "00329270583361032720"
     },
     "user_tz": 180
    },
    "id": "avF7-n8G1dBX",
    "outputId": "1e114d79-c9db-404c-a35c-cac34e798d16"
   },
   "outputs": [],
   "source": [
    "array[::-2]"
   ]
  },
  {
   "cell_type": "markdown",
   "metadata": {
    "id": "5dLHhgaq5dus"
   },
   "source": [
    "Entretanto o numpy oferece uma maneira adicional de indexar elementos selecionando múltiplos indices por meio de uma lista"
   ]
  },
  {
   "cell_type": "code",
   "execution_count": null,
   "metadata": {
    "colab": {
     "base_uri": "https://localhost:8080/"
    },
    "executionInfo": {
     "elapsed": 232,
     "status": "ok",
     "timestamp": 1642889388600,
     "user": {
      "displayName": "Ignorância Zero",
      "photoUrl": "https://lh3.googleusercontent.com/a/default-user=s64",
      "userId": "00329270583361032720"
     },
     "user_tz": 180
    },
    "id": "F76tSv9k07hm",
    "outputId": "e4cf84cb-1f9b-47b1-a2e8-4b6bbc137180"
   },
   "outputs": [],
   "source": [
    "array[1:3]"
   ]
  },
  {
   "cell_type": "code",
   "execution_count": null,
   "metadata": {
    "colab": {
     "base_uri": "https://localhost:8080/"
    },
    "executionInfo": {
     "elapsed": 236,
     "status": "ok",
     "timestamp": 1642889405107,
     "user": {
      "displayName": "Ignorância Zero",
      "photoUrl": "https://lh3.googleusercontent.com/a/default-user=s64",
      "userId": "00329270583361032720"
     },
     "user_tz": 180
    },
    "id": "q0Np8hcO1sBn",
    "outputId": "d02ba557-8f4d-485a-a6a4-89ad1fa3bd91"
   },
   "outputs": [],
   "source": [
    "array[[1, 2]]"
   ]
  },
  {
   "cell_type": "markdown",
   "metadata": {
    "id": "mmdn7i4r8rSL"
   },
   "source": [
    "Por fim, numpy nos oferece a flexibilidade, especialmente com matrizes, de selecionar os elementos de linhas e colunas em conjunto por meio da sintaxe de \",\", na qual fornecemos dois slices, o primeiro selecionando linhas e o segundo selecionado colunas"
   ]
  },
  {
   "cell_type": "code",
   "execution_count": null,
   "metadata": {
    "colab": {
     "base_uri": "https://localhost:8080/"
    },
    "executionInfo": {
     "elapsed": 202,
     "status": "ok",
     "timestamp": 1642889486427,
     "user": {
      "displayName": "Ignorância Zero",
      "photoUrl": "https://lh3.googleusercontent.com/a/default-user=s64",
      "userId": "00329270583361032720"
     },
     "user_tz": 180
    },
    "id": "roXbzegsxdAL",
    "outputId": "56c612a7-a761-4e89-8594-be7072b720bc"
   },
   "outputs": [],
   "source": [
    "matriz[:, 1]"
   ]
  },
  {
   "cell_type": "code",
   "execution_count": null,
   "metadata": {
    "colab": {
     "base_uri": "https://localhost:8080/"
    },
    "executionInfo": {
     "elapsed": 214,
     "status": "ok",
     "timestamp": 1642889516634,
     "user": {
      "displayName": "Ignorância Zero",
      "photoUrl": "https://lh3.googleusercontent.com/a/default-user=s64",
      "userId": "00329270583361032720"
     },
     "user_tz": 180
    },
    "id": "fAhB6Hhr2HuX",
    "outputId": "2ebbbe71-0c32-4485-d94c-8d7a43953aeb"
   },
   "outputs": [],
   "source": [
    "matriz[1, 2]"
   ]
  },
  {
   "cell_type": "code",
   "execution_count": null,
   "metadata": {
    "colab": {
     "base_uri": "https://localhost:8080/"
    },
    "executionInfo": {
     "elapsed": 213,
     "status": "ok",
     "timestamp": 1642889529493,
     "user": {
      "displayName": "Ignorância Zero",
      "photoUrl": "https://lh3.googleusercontent.com/a/default-user=s64",
      "userId": "00329270583361032720"
     },
     "user_tz": 180
    },
    "id": "h8mIttgy2KqH",
    "outputId": "2162a79e-6ddf-442f-f8e2-109adc83504d"
   },
   "outputs": [],
   "source": [
    "matriz[:, [1, 2]]"
   ]
  },
  {
   "cell_type": "markdown",
   "metadata": {
    "id": "PNlBET2vfTz6"
   },
   "source": [
    "---"
   ]
  },
  {
   "cell_type": "markdown",
   "metadata": {
    "id": "ZU8gERxqfTz6"
   },
   "source": [
    "**Exercício**\n",
    "\n",
    "Dado um vetor unidimensional de valores converta-o para uma matriz bi-dimensional com base em um valor de passo e um valor de janela, de tal forma que cada linha dessa matriz contenha o número de colunas definido na janela e que nós percorremos, a cada iteração, o número de passo em termos de elemento.\n",
    "\n",
    "Por exemplo:\n",
    "\n",
    "    Entrada > \n",
    "    array = [0, 1, 2, 3, 4, 5, 6, 7, 8, 9, 10, 11, 12, 13, 14, 15, 16, 17, 18]\n",
    "    Passo = 2\n",
    "    Janela = 4\n",
    "    \n",
    "Geraria uma saída de:\n",
    "\n",
    "    Saída > [[ 0  1  2  3]\n",
    "             [ 2  3  4  5]\n",
    "             [ 4  5  6  7]\n",
    "             [ 6  7  8  9]\n",
    "             [ 8  9 10 11]\n",
    "             [10 11 12 13]\n",
    "             [12 13 14 15]\n",
    "             [14 15 16 17]]\n",
    "\n",
    "Veja que cada linha contém 4 colunas = janelas. A primeira linha é formada por 0-3, ou seja, os 4 primeiros elementos do array, enquanto que a segunda linha é de 2-5, de forma que ela pula os 2 primeiros elementos (passo) e percorre mais 4 elementos (janela) do array"
   ]
  },
  {
   "cell_type": "code",
   "execution_count": null,
   "metadata": {
    "id": "R4rkEQMGfTz7",
    "solution2": "hidden",
    "solution2_first": true
   },
   "outputs": [],
   "source": []
  },
  {
   "cell_type": "code",
   "execution_count": null,
   "metadata": {
    "cellView": "form",
    "id": "NfMyDpbffTz7",
    "solution2": "hidden"
   },
   "outputs": [],
   "source": [
    "#@title Resposta\n",
    "def gera_matriz(array, passo=5, janela=5):\n",
    "    n_iter = ((array.size - janela) // passo) + 1\n",
    "    return np.array(\n",
    "        [\n",
    "            array[s:(s + janela)] \n",
    "            for s in np.arange(0, n_iter * passo, passo)\n",
    "        ]\n",
    "    )\n",
    "\n",
    "print(gera_matriz(np.arange(19), passo=2, janela=4))"
   ]
  },
  {
   "cell_type": "markdown",
   "metadata": {
    "id": "CZVIReqqfTz7"
   },
   "source": [
    "---"
   ]
  },
  {
   "cell_type": "markdown",
   "metadata": {
    "id": "1Geirqr8Ahcu"
   },
   "source": [
    "## Mutabilidade"
   ]
  },
  {
   "cell_type": "markdown",
   "metadata": {
    "id": "9qsrYUqqAktf"
   },
   "source": [
    "Diferente de listas arrays são objetos imutáveis em tamanho e tipo (como você viu mais acima, para mudar o tipo de array nós criamos um novo)"
   ]
  },
  {
   "cell_type": "code",
   "execution_count": null,
   "metadata": {
    "ExecuteTime": {
     "end_time": "2021-09-17T18:30:41.661987Z",
     "start_time": "2021-09-17T18:30:41.651016Z"
    },
    "colab": {
     "base_uri": "https://localhost:8080/",
     "height": 183
    },
    "executionInfo": {
     "elapsed": 332,
     "status": "error",
     "timestamp": 1643116309851,
     "user": {
      "displayName": "Ignorância Zero",
      "photoUrl": "https://lh3.googleusercontent.com/a/default-user=s64",
      "userId": "00329270583361032720"
     },
     "user_tz": 180
    },
    "id": "0MZq17p5AhNx",
    "outputId": "1071ec0b-fd0c-4176-bd92-f2865d724bf5"
   },
   "outputs": [],
   "source": [
    "arr = np.array([1, 2, 3])\n",
    "arr.append(4)"
   ]
  },
  {
   "cell_type": "markdown",
   "metadata": {
    "id": "umhiWOMgfTz8"
   },
   "source": [
    "Entretanto, diferente de tuplas, arrays são mútaveis em conteúdo"
   ]
  },
  {
   "cell_type": "code",
   "execution_count": null,
   "metadata": {
    "ExecuteTime": {
     "end_time": "2021-09-17T18:30:41.925948Z",
     "start_time": "2021-09-17T18:30:41.915975Z"
    },
    "colab": {
     "base_uri": "https://localhost:8080/"
    },
    "executionInfo": {
     "elapsed": 312,
     "status": "ok",
     "timestamp": 1643116357043,
     "user": {
      "displayName": "Ignorância Zero",
      "photoUrl": "https://lh3.googleusercontent.com/a/default-user=s64",
      "userId": "00329270583361032720"
     },
     "user_tz": 180
    },
    "id": "rZGLwrw-A-uF",
    "outputId": "d8061425-918b-4b33-dbd6-a45d94739df6"
   },
   "outputs": [],
   "source": [
    "arr[2] = 5\n",
    "arr"
   ]
  },
  {
   "cell_type": "markdown",
   "metadata": {
    "id": "tkU-Ik83fTz9"
   },
   "source": [
    "Ao tentar mudar o valor de um elemento o numpy o converterá para a tipagem adequada quando possível"
   ]
  },
  {
   "cell_type": "code",
   "execution_count": null,
   "metadata": {
    "colab": {
     "base_uri": "https://localhost:8080/"
    },
    "executionInfo": {
     "elapsed": 322,
     "status": "ok",
     "timestamp": 1643116377948,
     "user": {
      "displayName": "Ignorância Zero",
      "photoUrl": "https://lh3.googleusercontent.com/a/default-user=s64",
      "userId": "00329270583361032720"
     },
     "user_tz": 180
    },
    "id": "oi5o5v0wxdAN",
    "outputId": "4c2368f8-d5fb-4f58-8052-28c456a02b77"
   },
   "outputs": [],
   "source": [
    "arr[1] = 1.7234\n",
    "arr"
   ]
  },
  {
   "cell_type": "code",
   "execution_count": null,
   "metadata": {
    "colab": {
     "base_uri": "https://localhost:8080/"
    },
    "executionInfo": {
     "elapsed": 473,
     "status": "ok",
     "timestamp": 1643116422340,
     "user": {
      "displayName": "Ignorância Zero",
      "photoUrl": "https://lh3.googleusercontent.com/a/default-user=s64",
      "userId": "00329270583361032720"
     },
     "user_tz": 180
    },
    "id": "D4zu3tOYXsWj",
    "outputId": "20f351fa-d069-4c94-9c45-6c9b10fe0455"
   },
   "outputs": [],
   "source": [
    "arr[1] = \"3\"\n",
    "arr"
   ]
  },
  {
   "cell_type": "code",
   "execution_count": null,
   "metadata": {
    "colab": {
     "base_uri": "https://localhost:8080/",
     "height": 183
    },
    "executionInfo": {
     "elapsed": 331,
     "status": "error",
     "timestamp": 1643116431200,
     "user": {
      "displayName": "Ignorância Zero",
      "photoUrl": "https://lh3.googleusercontent.com/a/default-user=s64",
      "userId": "00329270583361032720"
     },
     "user_tz": 180
    },
    "id": "CWk8U7p5XurT",
    "outputId": "d5f7b0aa-f984-41d3-a64f-09cbccf576f1"
   },
   "outputs": [],
   "source": [
    "arr[1] = \"3.2\"\n",
    "arr"
   ]
  },
  {
   "cell_type": "markdown",
   "metadata": {
    "id": "ymdNpgqFfTz-"
   },
   "source": [
    "É interessante notar como funciona a alocação de memória para transformações particulares do array que podem afetar sua mutabilidade. Por exemplo, suponhamos que temos os array a, b e c todos criados a partir de transformações do vetor a"
   ]
  },
  {
   "cell_type": "code",
   "execution_count": null,
   "metadata": {
    "ExecuteTime": {
     "end_time": "2021-09-17T18:30:43.133084Z",
     "start_time": "2021-09-17T18:30:43.116157Z"
    },
    "colab": {
     "base_uri": "https://localhost:8080/"
    },
    "executionInfo": {
     "elapsed": 341,
     "status": "ok",
     "timestamp": 1643116499635,
     "user": {
      "displayName": "Ignorância Zero",
      "photoUrl": "https://lh3.googleusercontent.com/a/default-user=s64",
      "userId": "00329270583361032720"
     },
     "user_tz": 180
    },
    "id": "BBfFETShfTz-",
    "outputId": "db0a106a-6a78-46f6-91c8-354f468787bb"
   },
   "outputs": [],
   "source": [
    "a = np.arange(12, dtype=\"int64\")\n",
    "b = a.reshape(3, 4)\n",
    "c = a[::2]\n",
    "print(a)\n",
    "print(b)\n",
    "print(c)"
   ]
  },
  {
   "cell_type": "markdown",
   "metadata": {
    "id": "5ykVQKAufTz_"
   },
   "source": [
    "O que acontece, neste caso, se eu alterar o vetor a?"
   ]
  },
  {
   "cell_type": "code",
   "execution_count": null,
   "metadata": {
    "ExecuteTime": {
     "end_time": "2021-09-17T18:30:43.507921Z",
     "start_time": "2021-09-17T18:30:43.499331Z"
    },
    "colab": {
     "base_uri": "https://localhost:8080/"
    },
    "executionInfo": {
     "elapsed": 455,
     "status": "ok",
     "timestamp": 1643116534437,
     "user": {
      "displayName": "Ignorância Zero",
      "photoUrl": "https://lh3.googleusercontent.com/a/default-user=s64",
      "userId": "00329270583361032720"
     },
     "user_tz": 180
    },
    "id": "iQ3BNx5QfTz_",
    "outputId": "92023e70-77f9-41e0-b1c6-f634dc210896"
   },
   "outputs": [],
   "source": [
    "a[0] = -1\n",
    "print(a)\n",
    "print(b)\n",
    "print(c)"
   ]
  },
  {
   "cell_type": "markdown",
   "metadata": {
    "ExecuteTime": {
     "end_time": "2021-09-16T14:41:30.338652Z",
     "start_time": "2021-09-16T14:41:30.322726Z"
    },
    "id": "jgcNizWWfTz_"
   },
   "source": [
    "Veja que se altera os vetores b e c. Isso acontece porque na visão de memória esses vetores apontam para a mesma localização na RAM. Por exemplo os vetores a e b são compartilhados como no diagrama abaixo:\n",
    "\n",
    "<img src=\"https://ajcr.net/images/stride-guide/array-anatomy.png\" />"
   ]
  },
  {
   "cell_type": "code",
   "execution_count": null,
   "metadata": {
    "ExecuteTime": {
     "end_time": "2021-09-17T18:30:43.901860Z",
     "start_time": "2021-09-17T18:30:43.883908Z"
    },
    "colab": {
     "base_uri": "https://localhost:8080/"
    },
    "executionInfo": {
     "elapsed": 477,
     "status": "ok",
     "timestamp": 1643116757902,
     "user": {
      "displayName": "Ignorância Zero",
      "photoUrl": "https://lh3.googleusercontent.com/a/default-user=s64",
      "userId": "00329270583361032720"
     },
     "user_tz": 180
    },
    "id": "6KtBxgl-fTz_",
    "outputId": "55509f9f-8361-46a7-ea92-e6ad8423bd0d"
   },
   "outputs": [],
   "source": [
    "print(f\"a: dtype={a.dtype} | shape={a.shape} | size={a.size} | itemsize={a.itemsize} | strides={a.strides}\")\n",
    "print(f\"b: dtype={b.dtype} | shape={b.shape} | size={b.size} | itemsize={b.itemsize} | strides={b.strides}\")"
   ]
  },
  {
   "cell_type": "markdown",
   "metadata": {
    "id": "VQOH4SBIfT0A"
   },
   "source": [
    "Da mesma forma o vetor c é uma representação especial do vetor a, na qual mudamos o valor de passo entre elementos do array"
   ]
  },
  {
   "cell_type": "markdown",
   "metadata": {
    "id": "t2hgbxo0fT0A"
   },
   "source": [
    "<img src=\"https://ajcr.net/images/stride-guide/1d_array_a_getitem_step_2.png\" />"
   ]
  },
  {
   "cell_type": "code",
   "execution_count": null,
   "metadata": {
    "ExecuteTime": {
     "end_time": "2021-09-17T18:30:44.629437Z",
     "start_time": "2021-09-17T18:30:44.619463Z"
    },
    "colab": {
     "base_uri": "https://localhost:8080/"
    },
    "executionInfo": {
     "elapsed": 319,
     "status": "ok",
     "timestamp": 1643116802973,
     "user": {
      "displayName": "Ignorância Zero",
      "photoUrl": "https://lh3.googleusercontent.com/a/default-user=s64",
      "userId": "00329270583361032720"
     },
     "user_tz": 180
    },
    "id": "ITHFkLEofT0A",
    "outputId": "5f1cf6a7-8df6-4a94-d182-09ea6e298d83"
   },
   "outputs": [],
   "source": [
    "print(f\"a: dtype={a.dtype} | shape={a.shape} | size={a.size} | itemsize={a.itemsize} | strides={a.strides}\")\n",
    "print(f\"c: dtype={c.dtype} | shape={c.shape} | size={c.size} | itemsize={c.itemsize} | strides={c.strides}\")"
   ]
  },
  {
   "cell_type": "markdown",
   "metadata": {
    "id": "HhhORlBifT0B"
   },
   "source": [
    "Por fim é importante lembrar que tal como listas e dicionário, arrays são passados como referência em função, de forma que qualquer alteração no array feito dentro de uma função será carregada para fora da mesma"
   ]
  },
  {
   "cell_type": "code",
   "execution_count": null,
   "metadata": {
    "ExecuteTime": {
     "end_time": "2021-09-17T18:30:45.001890Z",
     "start_time": "2021-09-17T18:30:44.987928Z"
    },
    "colab": {
     "base_uri": "https://localhost:8080/"
    },
    "executionInfo": {
     "elapsed": 318,
     "status": "ok",
     "timestamp": 1643116847698,
     "user": {
      "displayName": "Ignorância Zero",
      "photoUrl": "https://lh3.googleusercontent.com/a/default-user=s64",
      "userId": "00329270583361032720"
     },
     "user_tz": 180
    },
    "id": "PK4th93AfT0B",
    "outputId": "ff383f98-c456-4520-fe97-5df97bef746c"
   },
   "outputs": [],
   "source": [
    "def muda_a(a):\n",
    "  a[1] = 12890\n",
    "print(a)\n",
    "muda_a(a)\n",
    "print(a)\n",
    "print(b)\n",
    "print(c)"
   ]
  },
  {
   "cell_type": "markdown",
   "metadata": {
    "id": "8UOx9d_RfT0B"
   },
   "source": [
    "---"
   ]
  },
  {
   "cell_type": "markdown",
   "metadata": {
    "id": "IVrWWTKzfT0B"
   },
   "source": [
    "**Exercício**\n",
    "\n",
    "Crie uma função que permita criar uma matriz quadrada com os seguintes formatos:\n",
    "\n",
    "    Q -> 1 1 1 1\n",
    "         1 0 0 1\n",
    "         1 0 0 1\n",
    "         1 1 1 1\n",
    "    V -> 1 0 0 1\n",
    "         1 0 0 1\n",
    "         1 0 0 1\n",
    "         1 0 0 1\n",
    "    H -> 1 1 1 1\n",
    "         0 0 0 0\n",
    "         0 0 0 0\n",
    "         1 1 1 1\n",
    "    P -> 0 0 0 0\n",
    "         0 1 1 0\n",
    "         0 1 1 0\n",
    "         0 0 0 0"
   ]
  },
  {
   "cell_type": "code",
   "execution_count": null,
   "metadata": {
    "id": "WQWESQjMfT0C",
    "solution2": "hidden",
    "solution2_first": true
   },
   "outputs": [],
   "source": []
  },
  {
   "cell_type": "code",
   "execution_count": null,
   "metadata": {
    "cellView": "form",
    "id": "salozbmYfT0C",
    "solution2": "hidden"
   },
   "outputs": [],
   "source": [
    "#@title Resposta\n",
    "def cria_array_formato(tamanho: int, fmt: str) -> np.ndarray:\n",
    "    \"\"\"\n",
    "    Cria um array de acordo com o formato desejado que pode ser\n",
    "    Q, V, H, P\n",
    "    \n",
    "    :param tamanho: tamanho do array\n",
    "    :param fmt: formato desejado\n",
    "    :return: array gerado\n",
    "    \"\"\"\n",
    "    arr = np.zeros(shape=(tamanho, tamanho))\n",
    "    \n",
    "    if fmt in [\"Q\", \"H\"]:\n",
    "        arr[0, :] = 1\n",
    "        arr[-1, :] = 1\n",
    "    if fmt in [\"Q\", \"V\"]:\n",
    "        arr[:, 0] = 1\n",
    "        arr[:, -1] = 1\n",
    "    if fmt == \"P\":\n",
    "        arr[1:-1, 1:-1] = 1\n",
    "    \n",
    "    return arr\n",
    "\n",
    "print(cria_array_formato(5, \"Q\"))\n",
    "print(cria_array_formato(5, \"V\"))\n",
    "print(cria_array_formato(5, \"H\"))\n",
    "print(cria_array_formato(5, \"P\"))"
   ]
  },
  {
   "cell_type": "markdown",
   "metadata": {
    "id": "BNEUx8WefT0C"
   },
   "source": [
    "---"
   ]
  },
  {
   "cell_type": "markdown",
   "metadata": {
    "id": "N-EJ7xAW5due"
   },
   "source": [
    "## Operações "
   ]
  },
  {
   "cell_type": "markdown",
   "metadata": {
    "id": "FnS5Vdb79E5q"
   },
   "source": [
    "Como descrito anteriormente, numpy é uma biblioteca de algebra linear, de forma que suporta todas as operações vetoriais tradicionais"
   ]
  },
  {
   "cell_type": "code",
   "execution_count": null,
   "metadata": {
    "ExecuteTime": {
     "end_time": "2021-09-17T18:30:46.951016Z",
     "start_time": "2021-09-17T18:30:46.940046Z"
    },
    "colab": {
     "base_uri": "https://localhost:8080/"
    },
    "executionInfo": {
     "elapsed": 333,
     "status": "ok",
     "timestamp": 1643117028648,
     "user": {
      "displayName": "Ignorância Zero",
      "photoUrl": "https://lh3.googleusercontent.com/a/default-user=s64",
      "userId": "00329270583361032720"
     },
     "user_tz": 180
    },
    "id": "y_xoIVok5due",
    "outputId": "282a8b6b-d8e4-4ca0-a655-86c4b04d8e83"
   },
   "outputs": [],
   "source": [
    "np.random.seed(42)\n",
    "arr1 = np.array([1, 2, 3])\n",
    "arr2 = np.array([4, 5, 6])\n",
    "m1 = np.random.randint(1, 10, size=(3, 3))\n",
    "m2 = np.random.randint(1, 10, size=(3, 3))\n",
    "\n",
    "print(m1)\n",
    "print(m2)"
   ]
  },
  {
   "cell_type": "markdown",
   "metadata": {
    "id": "lOgU9eqEHZkF"
   },
   "source": [
    "Soma"
   ]
  },
  {
   "cell_type": "code",
   "execution_count": null,
   "metadata": {
    "colab": {
     "base_uri": "https://localhost:8080/"
    },
    "executionInfo": {
     "elapsed": 327,
     "status": "ok",
     "timestamp": 1643117048226,
     "user": {
      "displayName": "Ignorância Zero",
      "photoUrl": "https://lh3.googleusercontent.com/a/default-user=s64",
      "userId": "00329270583361032720"
     },
     "user_tz": 180
    },
    "id": "bgm9KTRCxdAP",
    "outputId": "d09f531d-63d6-402a-c35a-aac770030ed6"
   },
   "outputs": [],
   "source": [
    "arr1 + arr2"
   ]
  },
  {
   "cell_type": "code",
   "execution_count": null,
   "metadata": {
    "colab": {
     "base_uri": "https://localhost:8080/"
    },
    "executionInfo": {
     "elapsed": 316,
     "status": "ok",
     "timestamp": 1643117065856,
     "user": {
      "displayName": "Ignorância Zero",
      "photoUrl": "https://lh3.googleusercontent.com/a/default-user=s64",
      "userId": "00329270583361032720"
     },
     "user_tz": 180
    },
    "id": "bZ1so9jIaI7F",
    "outputId": "91e96c06-83a4-4434-f46e-cda341f8eee6"
   },
   "outputs": [],
   "source": [
    "np.add(arr1, arr2)"
   ]
  },
  {
   "cell_type": "markdown",
   "metadata": {
    "id": "b7VrPDPqHatA"
   },
   "source": [
    "Subtração"
   ]
  },
  {
   "cell_type": "code",
   "execution_count": null,
   "metadata": {
    "colab": {
     "base_uri": "https://localhost:8080/"
    },
    "executionInfo": {
     "elapsed": 339,
     "status": "ok",
     "timestamp": 1643117074902,
     "user": {
      "displayName": "Ignorância Zero",
      "photoUrl": "https://lh3.googleusercontent.com/a/default-user=s64",
      "userId": "00329270583361032720"
     },
     "user_tz": 180
    },
    "id": "QJxzLCc5xdAP",
    "outputId": "58e4b37c-6afc-4719-9fdd-f624b8385d0e"
   },
   "outputs": [],
   "source": [
    "arr1 - arr2"
   ]
  },
  {
   "cell_type": "code",
   "execution_count": null,
   "metadata": {
    "colab": {
     "base_uri": "https://localhost:8080/"
    },
    "executionInfo": {
     "elapsed": 393,
     "status": "ok",
     "timestamp": 1643117093136,
     "user": {
      "displayName": "Ignorância Zero",
      "photoUrl": "https://lh3.googleusercontent.com/a/default-user=s64",
      "userId": "00329270583361032720"
     },
     "user_tz": 180
    },
    "id": "br0mcIOOaOxj",
    "outputId": "c57d9018-55a9-4335-ca70-7b7a701cbb0a"
   },
   "outputs": [],
   "source": [
    "np.subtract(arr1, arr2)"
   ]
  },
  {
   "cell_type": "markdown",
   "metadata": {
    "id": "BG9N5ovUfT0F"
   },
   "source": [
    "Multiplicação (escalar)"
   ]
  },
  {
   "cell_type": "code",
   "execution_count": null,
   "metadata": {
    "colab": {
     "base_uri": "https://localhost:8080/"
    },
    "executionInfo": {
     "elapsed": 308,
     "status": "ok",
     "timestamp": 1643117106813,
     "user": {
      "displayName": "Ignorância Zero",
      "photoUrl": "https://lh3.googleusercontent.com/a/default-user=s64",
      "userId": "00329270583361032720"
     },
     "user_tz": 180
    },
    "id": "A-t51NwqxdAP",
    "outputId": "966b1d81-3d0a-471d-ef62-3a3d3c714490"
   },
   "outputs": [],
   "source": [
    "arr1 * 2"
   ]
  },
  {
   "cell_type": "code",
   "execution_count": null,
   "metadata": {
    "colab": {
     "base_uri": "https://localhost:8080/"
    },
    "executionInfo": {
     "elapsed": 396,
     "status": "ok",
     "timestamp": 1643117116686,
     "user": {
      "displayName": "Ignorância Zero",
      "photoUrl": "https://lh3.googleusercontent.com/a/default-user=s64",
      "userId": "00329270583361032720"
     },
     "user_tz": 180
    },
    "id": "_vl4S-GeaWCT",
    "outputId": "75c29b85-27aa-419e-aff2-24c49a8ef393"
   },
   "outputs": [],
   "source": [
    "arr1 * 2.1"
   ]
  },
  {
   "cell_type": "code",
   "execution_count": null,
   "metadata": {
    "colab": {
     "base_uri": "https://localhost:8080/"
    },
    "executionInfo": {
     "elapsed": 575,
     "status": "ok",
     "timestamp": 1643117138307,
     "user": {
      "displayName": "Ignorância Zero",
      "photoUrl": "https://lh3.googleusercontent.com/a/default-user=s64",
      "userId": "00329270583361032720"
     },
     "user_tz": 180
    },
    "id": "1jZss1WxabFD",
    "outputId": "b73b4232-3c7d-4666-c932-2c0e00b07192"
   },
   "outputs": [],
   "source": [
    "np.multiply(arr1, 2)"
   ]
  },
  {
   "cell_type": "markdown",
   "metadata": {
    "id": "E638lJL2HcZo"
   },
   "source": [
    "Multiplicação (element-wise)"
   ]
  },
  {
   "cell_type": "code",
   "execution_count": null,
   "metadata": {
    "colab": {
     "base_uri": "https://localhost:8080/"
    },
    "executionInfo": {
     "elapsed": 610,
     "status": "ok",
     "timestamp": 1643117151393,
     "user": {
      "displayName": "Ignorância Zero",
      "photoUrl": "https://lh3.googleusercontent.com/a/default-user=s64",
      "userId": "00329270583361032720"
     },
     "user_tz": 180
    },
    "id": "inmahhCGxdAP",
    "outputId": "08960455-40bc-46b1-e0d6-0536ca021149"
   },
   "outputs": [],
   "source": [
    "arr1 * arr2"
   ]
  },
  {
   "cell_type": "code",
   "execution_count": null,
   "metadata": {
    "colab": {
     "base_uri": "https://localhost:8080/"
    },
    "executionInfo": {
     "elapsed": 432,
     "status": "ok",
     "timestamp": 1643117177392,
     "user": {
      "displayName": "Ignorância Zero",
      "photoUrl": "https://lh3.googleusercontent.com/a/default-user=s64",
      "userId": "00329270583361032720"
     },
     "user_tz": 180
    },
    "id": "7zDAClDkakjD",
    "outputId": "8d28186c-e2c7-4458-fb98-acffaca3a9cd"
   },
   "outputs": [],
   "source": [
    "np.multiply(arr1, arr2)"
   ]
  },
  {
   "cell_type": "markdown",
   "metadata": {
    "id": "Lh1_2VVSHlMa"
   },
   "source": [
    "Multiplicação (produto vetorial)"
   ]
  },
  {
   "cell_type": "code",
   "execution_count": null,
   "metadata": {
    "colab": {
     "base_uri": "https://localhost:8080/"
    },
    "executionInfo": {
     "elapsed": 321,
     "status": "ok",
     "timestamp": 1643117207989,
     "user": {
      "displayName": "Ignorância Zero",
      "photoUrl": "https://lh3.googleusercontent.com/a/default-user=s64",
      "userId": "00329270583361032720"
     },
     "user_tz": 180
    },
    "id": "glN-jtkuxdAQ",
    "outputId": "4fc52aac-63aa-42e8-cd06-b70c041a9041"
   },
   "outputs": [],
   "source": [
    "sum(arr1 * arr2)"
   ]
  },
  {
   "cell_type": "code",
   "execution_count": null,
   "metadata": {
    "colab": {
     "base_uri": "https://localhost:8080/"
    },
    "executionInfo": {
     "elapsed": 316,
     "status": "ok",
     "timestamp": 1643117222164,
     "user": {
      "displayName": "Ignorância Zero",
      "photoUrl": "https://lh3.googleusercontent.com/a/default-user=s64",
      "userId": "00329270583361032720"
     },
     "user_tz": 180
    },
    "id": "PkC3MWCuavuC",
    "outputId": "c1e02572-1ed7-4cf6-ccad-3309acfcd9b5"
   },
   "outputs": [],
   "source": [
    "arr1.dot(arr2)"
   ]
  },
  {
   "cell_type": "code",
   "execution_count": null,
   "metadata": {
    "colab": {
     "base_uri": "https://localhost:8080/"
    },
    "executionInfo": {
     "elapsed": 344,
     "status": "ok",
     "timestamp": 1643117244318,
     "user": {
      "displayName": "Ignorância Zero",
      "photoUrl": "https://lh3.googleusercontent.com/a/default-user=s64",
      "userId": "00329270583361032720"
     },
     "user_tz": 180
    },
    "id": "IYagRnaUa02y",
    "outputId": "00fa2edc-8461-4f27-fe93-edaefcc1bca6"
   },
   "outputs": [],
   "source": [
    "np.dot(arr1, arr2)"
   ]
  },
  {
   "cell_type": "markdown",
   "metadata": {
    "id": "4lmeVJ_afT0I"
   },
   "source": [
    "Multiplicação (cruzada)\n",
    "\n",
    "<img src=\"data:image/png;base64,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\" />"
   ]
  },
  {
   "cell_type": "code",
   "execution_count": null,
   "metadata": {
    "colab": {
     "base_uri": "https://localhost:8080/"
    },
    "executionInfo": {
     "elapsed": 315,
     "status": "ok",
     "timestamp": 1643117314120,
     "user": {
      "displayName": "Ignorância Zero",
      "photoUrl": "https://lh3.googleusercontent.com/a/default-user=s64",
      "userId": "00329270583361032720"
     },
     "user_tz": 180
    },
    "id": "5EBqSwK2xdAR",
    "outputId": "a22a1abd-7fe3-4b28-a2a4-8a38219df721"
   },
   "outputs": [],
   "source": [
    "np.cross(arr1, arr2)"
   ]
  },
  {
   "cell_type": "markdown",
   "metadata": {
    "id": "_4UkI75OHneN"
   },
   "source": [
    "Multiplicação (matricial)\n",
    "\n",
    "<img src=\"https://www.geeksforgeeks.org/wp-content/uploads/strassen_new.png\" />"
   ]
  },
  {
   "cell_type": "code",
   "execution_count": null,
   "metadata": {
    "colab": {
     "base_uri": "https://localhost:8080/"
    },
    "executionInfo": {
     "elapsed": 367,
     "status": "ok",
     "timestamp": 1643117342941,
     "user": {
      "displayName": "Ignorância Zero",
      "photoUrl": "https://lh3.googleusercontent.com/a/default-user=s64",
      "userId": "00329270583361032720"
     },
     "user_tz": 180
    },
    "id": "Jn6-phUExdAS",
    "outputId": "ed0fc09a-087d-4a7a-a7c1-22541a7b6c86"
   },
   "outputs": [],
   "source": [
    "m1@m2"
   ]
  },
  {
   "cell_type": "code",
   "execution_count": null,
   "metadata": {
    "colab": {
     "base_uri": "https://localhost:8080/"
    },
    "executionInfo": {
     "elapsed": 317,
     "status": "ok",
     "timestamp": 1643117359132,
     "user": {
      "displayName": "Ignorância Zero",
      "photoUrl": "https://lh3.googleusercontent.com/a/default-user=s64",
      "userId": "00329270583361032720"
     },
     "user_tz": 180
    },
    "id": "HdB4nTxubRPj",
    "outputId": "6afeb9c2-c554-4b54-a750-65dfb473fd1c"
   },
   "outputs": [],
   "source": [
    "np.matmul(m1, m2)"
   ]
  },
  {
   "cell_type": "markdown",
   "metadata": {
    "id": "PFuoy9XuHgPk"
   },
   "source": [
    "Divisão"
   ]
  },
  {
   "cell_type": "code",
   "execution_count": null,
   "metadata": {
    "colab": {
     "base_uri": "https://localhost:8080/"
    },
    "executionInfo": {
     "elapsed": 373,
     "status": "ok",
     "timestamp": 1643117371374,
     "user": {
      "displayName": "Ignorância Zero",
      "photoUrl": "https://lh3.googleusercontent.com/a/default-user=s64",
      "userId": "00329270583361032720"
     },
     "user_tz": 180
    },
    "id": "UcwTZEWsxdAT",
    "outputId": "a8142741-5a58-41df-9adb-21e390d214c7"
   },
   "outputs": [],
   "source": [
    "arr1 / arr2"
   ]
  },
  {
   "cell_type": "code",
   "execution_count": null,
   "metadata": {
    "colab": {
     "base_uri": "https://localhost:8080/"
    },
    "executionInfo": {
     "elapsed": 322,
     "status": "ok",
     "timestamp": 1643117383879,
     "user": {
      "displayName": "Ignorância Zero",
      "photoUrl": "https://lh3.googleusercontent.com/a/default-user=s64",
      "userId": "00329270583361032720"
     },
     "user_tz": 180
    },
    "id": "yRKJHmSNbW2z",
    "outputId": "ed69e320-c31d-4595-82b4-25c7838b5a4e"
   },
   "outputs": [],
   "source": [
    "np.divide(arr1, arr2)"
   ]
  },
  {
   "cell_type": "markdown",
   "metadata": {
    "id": "eXbwvZYUHh6R"
   },
   "source": [
    "Exponenciação"
   ]
  },
  {
   "cell_type": "code",
   "execution_count": null,
   "metadata": {
    "colab": {
     "base_uri": "https://localhost:8080/"
    },
    "executionInfo": {
     "elapsed": 324,
     "status": "ok",
     "timestamp": 1643117392054,
     "user": {
      "displayName": "Ignorância Zero",
      "photoUrl": "https://lh3.googleusercontent.com/a/default-user=s64",
      "userId": "00329270583361032720"
     },
     "user_tz": 180
    },
    "id": "7RXYkLmoxdAT",
    "outputId": "8f6ae0ef-0bd2-46fa-a025-9ad2d7cff1d9"
   },
   "outputs": [],
   "source": [
    "arr1 ** 2"
   ]
  },
  {
   "cell_type": "code",
   "execution_count": null,
   "metadata": {
    "colab": {
     "base_uri": "https://localhost:8080/"
    },
    "executionInfo": {
     "elapsed": 311,
     "status": "ok",
     "timestamp": 1643117401164,
     "user": {
      "displayName": "Ignorância Zero",
      "photoUrl": "https://lh3.googleusercontent.com/a/default-user=s64",
      "userId": "00329270583361032720"
     },
     "user_tz": 180
    },
    "id": "PhYtyi1dbb_z",
    "outputId": "413bf02e-a484-4acd-8a8d-8caedc609e8a"
   },
   "outputs": [],
   "source": [
    "arr1 ** arr2"
   ]
  },
  {
   "cell_type": "code",
   "execution_count": null,
   "metadata": {
    "colab": {
     "base_uri": "https://localhost:8080/"
    },
    "executionInfo": {
     "elapsed": 339,
     "status": "ok",
     "timestamp": 1643117416436,
     "user": {
      "displayName": "Ignorância Zero",
      "photoUrl": "https://lh3.googleusercontent.com/a/default-user=s64",
      "userId": "00329270583361032720"
     },
     "user_tz": 180
    },
    "id": "xW_3gsdYbeiD",
    "outputId": "4c01b30a-fa6a-48d5-e426-e0cdd769f50c"
   },
   "outputs": [],
   "source": [
    "np.power(arr1, arr2)"
   ]
  },
  {
   "cell_type": "markdown",
   "metadata": {
    "id": "jhaIylkDfT0P"
   },
   "source": [
    "Módulo de um vetor"
   ]
  },
  {
   "cell_type": "code",
   "execution_count": null,
   "metadata": {
    "colab": {
     "base_uri": "https://localhost:8080/"
    },
    "executionInfo": {
     "elapsed": 315,
     "status": "ok",
     "timestamp": 1643117469310,
     "user": {
      "displayName": "Ignorância Zero",
      "photoUrl": "https://lh3.googleusercontent.com/a/default-user=s64",
      "userId": "00329270583361032720"
     },
     "user_tz": 180
    },
    "id": "VdH00HmJxdAT",
    "outputId": "9d08c00a-47c3-42bf-f653-99207c5adcdb"
   },
   "outputs": [],
   "source": [
    "sum(arr1 * arr1) ** 0.5"
   ]
  },
  {
   "cell_type": "code",
   "execution_count": null,
   "metadata": {
    "colab": {
     "base_uri": "https://localhost:8080/"
    },
    "executionInfo": {
     "elapsed": 561,
     "status": "ok",
     "timestamp": 1643117494478,
     "user": {
      "displayName": "Ignorância Zero",
      "photoUrl": "https://lh3.googleusercontent.com/a/default-user=s64",
      "userId": "00329270583361032720"
     },
     "user_tz": 180
    },
    "id": "Rnus8NyAbuvJ",
    "outputId": "7cbd4362-de7d-45cf-c3b3-653adc42f3d9"
   },
   "outputs": [],
   "source": [
    "np.linalg.norm(arr1)"
   ]
  },
  {
   "cell_type": "markdown",
   "metadata": {
    "id": "tfkClCgGfT0Q"
   },
   "source": [
    "Determinante de uma matriz"
   ]
  },
  {
   "cell_type": "code",
   "execution_count": null,
   "metadata": {
    "colab": {
     "base_uri": "https://localhost:8080/"
    },
    "executionInfo": {
     "elapsed": 336,
     "status": "ok",
     "timestamp": 1643117511001,
     "user": {
      "displayName": "Ignorância Zero",
      "photoUrl": "https://lh3.googleusercontent.com/a/default-user=s64",
      "userId": "00329270583361032720"
     },
     "user_tz": 180
    },
    "id": "Wp50984GxdAT",
    "outputId": "49518b1d-94ba-4ac2-ee0f-18db30295a64"
   },
   "outputs": [],
   "source": [
    "np.linalg.det(m1)"
   ]
  },
  {
   "cell_type": "markdown",
   "metadata": {
    "id": "puv5Xhm1fT0R"
   },
   "source": [
    "Matriz inversa"
   ]
  },
  {
   "cell_type": "code",
   "execution_count": null,
   "metadata": {
    "colab": {
     "base_uri": "https://localhost:8080/"
    },
    "executionInfo": {
     "elapsed": 316,
     "status": "ok",
     "timestamp": 1643117526574,
     "user": {
      "displayName": "Ignorância Zero",
      "photoUrl": "https://lh3.googleusercontent.com/a/default-user=s64",
      "userId": "00329270583361032720"
     },
     "user_tz": 180
    },
    "id": "7Y2dK9asxdAT",
    "outputId": "970bb25f-dac9-4231-8f20-b5a8e6b2e685"
   },
   "outputs": [],
   "source": [
    "np.linalg.inv(m1)"
   ]
  },
  {
   "cell_type": "markdown",
   "metadata": {
    "id": "7Zl-nqWofT0R"
   },
   "source": [
    "Matriz transposta"
   ]
  },
  {
   "cell_type": "code",
   "execution_count": null,
   "metadata": {
    "colab": {
     "base_uri": "https://localhost:8080/"
    },
    "executionInfo": {
     "elapsed": 308,
     "status": "ok",
     "timestamp": 1643117540449,
     "user": {
      "displayName": "Ignorância Zero",
      "photoUrl": "https://lh3.googleusercontent.com/a/default-user=s64",
      "userId": "00329270583361032720"
     },
     "user_tz": 180
    },
    "id": "gELYCYUZxdAU",
    "outputId": "3c4d55db-4998-404f-dac2-f039cd69367c"
   },
   "outputs": [],
   "source": [
    "np.transpose(m1)"
   ]
  },
  {
   "cell_type": "code",
   "execution_count": null,
   "metadata": {
    "colab": {
     "base_uri": "https://localhost:8080/"
    },
    "executionInfo": {
     "elapsed": 307,
     "status": "ok",
     "timestamp": 1643117546042,
     "user": {
      "displayName": "Ignorância Zero",
      "photoUrl": "https://lh3.googleusercontent.com/a/default-user=s64",
      "userId": "00329270583361032720"
     },
     "user_tz": 180
    },
    "id": "5qx-3sS4b_uj",
    "outputId": "2c3e2579-164d-4bc8-8905-53e70e7d3eec"
   },
   "outputs": [],
   "source": [
    "m1.T"
   ]
  },
  {
   "cell_type": "code",
   "execution_count": null,
   "metadata": {
    "colab": {
     "base_uri": "https://localhost:8080/"
    },
    "executionInfo": {
     "elapsed": 315,
     "status": "ok",
     "timestamp": 1643117554206,
     "user": {
      "displayName": "Ignorância Zero",
      "photoUrl": "https://lh3.googleusercontent.com/a/default-user=s64",
      "userId": "00329270583361032720"
     },
     "user_tz": 180
    },
    "id": "U6pw_vGacBlT",
    "outputId": "c4f27e69-b01a-416f-cb07-01adca0c2072"
   },
   "outputs": [],
   "source": [
    "arr1.T"
   ]
  },
  {
   "cell_type": "markdown",
   "metadata": {
    "id": "0DG50J_I98PL"
   },
   "source": [
    "Uma propriedade especial de arrays é \"broadcasting\", na qual uma operação pode ser propagada entre arrays de diferentes tamanhos contato que obdeçam algumas propriedades especificas. Por exemplo, podemos somar dois arrays de tamanho diferente, contato que possamos \"reproduzir\" um deles para ficar com o tamanho do outro"
   ]
  },
  {
   "cell_type": "code",
   "execution_count": null,
   "metadata": {
    "executionInfo": {
     "elapsed": 352,
     "status": "ok",
     "timestamp": 1643117645740,
     "user": {
      "displayName": "Ignorância Zero",
      "photoUrl": "https://lh3.googleusercontent.com/a/default-user=s64",
      "userId": "00329270583361032720"
     },
     "user_tz": 180
    },
    "id": "JDWT70SdxdAU"
   },
   "outputs": [],
   "source": [
    "arr3 = np.array([1, 2, 3, 4])"
   ]
  },
  {
   "cell_type": "code",
   "execution_count": null,
   "metadata": {
    "colab": {
     "base_uri": "https://localhost:8080/",
     "height": 165
    },
    "executionInfo": {
     "elapsed": 373,
     "status": "error",
     "timestamp": 1643117651899,
     "user": {
      "displayName": "Ignorância Zero",
      "photoUrl": "https://lh3.googleusercontent.com/a/default-user=s64",
      "userId": "00329270583361032720"
     },
     "user_tz": 180
    },
    "id": "G2M_5ZSscZIj",
    "outputId": "ee7d48f3-612c-40cd-80d0-541ac2dbe71b"
   },
   "outputs": [],
   "source": [
    "arr3 + arr1"
   ]
  },
  {
   "cell_type": "code",
   "execution_count": null,
   "metadata": {
    "executionInfo": {
     "elapsed": 339,
     "status": "ok",
     "timestamp": 1643117682404,
     "user": {
      "displayName": "Ignorância Zero",
      "photoUrl": "https://lh3.googleusercontent.com/a/default-user=s64",
      "userId": "00329270583361032720"
     },
     "user_tz": 180
    },
    "id": "IoMw39-4cdyD"
   },
   "outputs": [],
   "source": [
    "arr3 = np.array([[1, 2, 3], [4, 5, 6]])"
   ]
  },
  {
   "cell_type": "code",
   "execution_count": null,
   "metadata": {
    "colab": {
     "base_uri": "https://localhost:8080/"
    },
    "executionInfo": {
     "elapsed": 339,
     "status": "ok",
     "timestamp": 1643117688461,
     "user": {
      "displayName": "Ignorância Zero",
      "photoUrl": "https://lh3.googleusercontent.com/a/default-user=s64",
      "userId": "00329270583361032720"
     },
     "user_tz": 180
    },
    "id": "3wbXCBqnciMz",
    "outputId": "3cdca98a-f0d7-4155-8ed4-defdf178d5f9"
   },
   "outputs": [],
   "source": [
    "arr3 + arr1"
   ]
  },
  {
   "cell_type": "code",
   "execution_count": null,
   "metadata": {
    "colab": {
     "base_uri": "https://localhost:8080/"
    },
    "executionInfo": {
     "elapsed": 346,
     "status": "ok",
     "timestamp": 1643117740400,
     "user": {
      "displayName": "Ignorância Zero",
      "photoUrl": "https://lh3.googleusercontent.com/a/default-user=s64",
      "userId": "00329270583361032720"
     },
     "user_tz": 180
    },
    "id": "N3LwNzbUcugT",
    "outputId": "45135368-cc47-41e7-b6ef-eae2cfc0e246"
   },
   "outputs": [],
   "source": [
    "arr3 * arr1"
   ]
  },
  {
   "cell_type": "markdown",
   "metadata": {
    "id": "qdiCywyOfT0U"
   },
   "source": [
    "Duas dimensões de arrays são compatíveis se (1) elas são iguais (2) uma delas é 1"
   ]
  },
  {
   "cell_type": "markdown",
   "metadata": {
    "id": "ql0VqR9QfT0U"
   },
   "source": [
    "Arrays que podem ser combinados\n",
    "\n",
    "    A      (3d array): 256 x 256 x 3\n",
    "    B      (1d array):             3\n",
    "    Result (3d array): 256 x 256 x 3\n",
    "\n",
    "    A      (4d array):  8 x 1 x 6 x 1\n",
    "    B      (3d array):      7 x 1 x 5\n",
    "    Result (4d array):  8 x 7 x 6 x 5\n",
    "\n",
    "    A      (2d array):  5 x 4\n",
    "    B      (1d array):      1\n",
    "    Result (2d array):  5 x 4\n",
    "\n",
    "    A      (2d array):  5 x 4\n",
    "    B      (1d array):      4\n",
    "    Result (2d array):  5 x 4\n",
    "\n",
    "    A      (3d array):  15 x 3 x 5\n",
    "    B      (3d array):  15 x 1 x 5\n",
    "    Result (3d array):  15 x 3 x 5\n",
    "\n",
    "    A      (3d array):  15 x 3 x 5\n",
    "    B      (2d array):       3 x 5\n",
    "    Result (3d array):  15 x 3 x 5\n",
    "\n",
    "    A      (3d array):  15 x 3 x 5\n",
    "    B      (2d array):       3 x 1\n",
    "    Result (3d array):  15 x 3 x 5\n",
    "\n",
    "Arrays que podem **NÃO** ser combinados:\n",
    "\n",
    "    A      (1d array):  3\n",
    "    B      (1d array):  4\n",
    "\n",
    "    A      (2d array):      2 x 1\n",
    "    B      (3d array):  8 x 4 x 3 # a dimensão 4 não combina com a 2"
   ]
  },
  {
   "cell_type": "code",
   "execution_count": null,
   "metadata": {
    "colab": {
     "base_uri": "https://localhost:8080/"
    },
    "executionInfo": {
     "elapsed": 323,
     "status": "ok",
     "timestamp": 1643118182740,
     "user": {
      "displayName": "Ignorância Zero",
      "photoUrl": "https://lh3.googleusercontent.com/a/default-user=s64",
      "userId": "00329270583361032720"
     },
     "user_tz": 180
    },
    "id": "5ABr-A_QfT0U",
    "outputId": "d14f292e-9fca-43e2-d751-64063eea4e4d"
   },
   "outputs": [],
   "source": [
    "x = np.arange(4)\n",
    "xx = x.reshape(4, 1)\n",
    "y = np.ones(5)\n",
    "z = np.ones((3, 4))\n",
    "\n",
    "# não é possível\n",
    "# x + y\n",
    "\n",
    "print((xx + y).shape)\n",
    "print((xx + y))\n",
    "\n",
    "print((x + z).shape)\n",
    "print((x + z))"
   ]
  },
  {
   "cell_type": "markdown",
   "metadata": {
    "id": "2BvgeVoDfT0V"
   },
   "source": [
    "Para mais detalhes veja https://numpy.org/doc/stable/user/basics.broadcasting.html"
   ]
  },
  {
   "cell_type": "markdown",
   "metadata": {
    "id": "kvuOC_q9fT0V"
   },
   "source": [
    "---"
   ]
  },
  {
   "cell_type": "markdown",
   "metadata": {
    "id": "y4Lp6kIRfT0V"
   },
   "source": [
    "**Exercício**\n",
    "\n",
    "Calcule a distância euclidiana entre dois arrays"
   ]
  },
  {
   "cell_type": "code",
   "execution_count": null,
   "metadata": {
    "ExecuteTime": {
     "end_time": "2021-09-17T18:30:59.109117Z",
     "start_time": "2021-09-17T18:30:59.100141Z"
    },
    "id": "Tq_jq265fT0V",
    "solution2": "hidden",
    "solution2_first": true
   },
   "outputs": [],
   "source": [
    "np.random.seed(42)\n",
    "a = np.random.random(size=3)\n",
    "b = np.random.random(size=3)"
   ]
  },
  {
   "cell_type": "code",
   "execution_count": null,
   "metadata": {
    "cellView": "form",
    "id": "xVtd6naKfT0W",
    "solution2": "hidden"
   },
   "outputs": [],
   "source": [
    "#@title Resposta\n",
    "np.random.seed(42)\n",
    "a = np.random.random(size=3)\n",
    "b = np.random.random(size=3)\n",
    "np.linalg.norm(a - b)"
   ]
  },
  {
   "cell_type": "markdown",
   "metadata": {
    "id": "teOybt6MfT0W"
   },
   "source": [
    "---"
   ]
  },
  {
   "cell_type": "markdown",
   "metadata": {
    "id": "IqKfUERUfT0W"
   },
   "source": [
    "## Representações"
   ]
  },
  {
   "cell_type": "markdown",
   "metadata": {
    "id": "gSeW9nYLfT0W"
   },
   "source": [
    "Há alguns elementos matemáticos que possuem representações especiais no numpy. Abaixo listamos os principais"
   ]
  },
  {
   "cell_type": "markdown",
   "metadata": {
    "ExecuteTime": {
     "end_time": "2021-09-16T19:07:26.299932Z",
     "start_time": "2021-09-16T19:07:26.292951Z"
    },
    "id": "Ty_nbdQ1fT0X"
   },
   "source": [
    "np.nan -> Not a Number, é a representação de um dado faltante"
   ]
  },
  {
   "cell_type": "code",
   "execution_count": null,
   "metadata": {
    "colab": {
     "base_uri": "https://localhost:8080/"
    },
    "executionInfo": {
     "elapsed": 377,
     "status": "ok",
     "timestamp": 1643118537637,
     "user": {
      "displayName": "Ignorância Zero",
      "photoUrl": "https://lh3.googleusercontent.com/a/default-user=s64",
      "userId": "00329270583361032720"
     },
     "user_tz": 180
    },
    "id": "-Zxc_ZY3xdAW",
    "outputId": "3b2b0f1f-53a1-4315-f590-925cdd57fec8"
   },
   "outputs": [],
   "source": [
    "arr = np.array([1, 2, np.nan, 4])\n",
    "arr"
   ]
  },
  {
   "cell_type": "code",
   "execution_count": null,
   "metadata": {
    "colab": {
     "base_uri": "https://localhost:8080/"
    },
    "executionInfo": {
     "elapsed": 414,
     "status": "ok",
     "timestamp": 1643118575815,
     "user": {
      "displayName": "Ignorância Zero",
      "photoUrl": "https://lh3.googleusercontent.com/a/default-user=s64",
      "userId": "00329270583361032720"
     },
     "user_tz": 180
    },
    "id": "M4ek8l2xf5KD",
    "outputId": "09adabc6-3bb7-4d40-c825-68ceaa0e6d47"
   },
   "outputs": [],
   "source": [
    "np.isnan(arr)"
   ]
  },
  {
   "cell_type": "code",
   "execution_count": null,
   "metadata": {
    "colab": {
     "base_uri": "https://localhost:8080/"
    },
    "executionInfo": {
     "elapsed": 331,
     "status": "ok",
     "timestamp": 1643118598401,
     "user": {
      "displayName": "Ignorância Zero",
      "photoUrl": "https://lh3.googleusercontent.com/a/default-user=s64",
      "userId": "00329270583361032720"
     },
     "user_tz": 180
    },
    "id": "4Exh2Acaf_az",
    "outputId": "ac1ee5b7-7315-47b9-b184-9cd2f00f6dac"
   },
   "outputs": [],
   "source": [
    "np.zeros(3) / 0"
   ]
  },
  {
   "cell_type": "markdown",
   "metadata": {
    "id": "T3AjGzs7fT0Y"
   },
   "source": [
    "É importante destacar que None e NaN não são a mesma coisa. Not a Number indica que é uma operação matemática ou um dado numérico não existente dentro de um array, enquanto None é o objeto nulo de Python."
   ]
  },
  {
   "cell_type": "code",
   "execution_count": null,
   "metadata": {
    "colab": {
     "base_uri": "https://localhost:8080/"
    },
    "executionInfo": {
     "elapsed": 330,
     "status": "ok",
     "timestamp": 1643118631062,
     "user": {
      "displayName": "Ignorância Zero",
      "photoUrl": "https://lh3.googleusercontent.com/a/default-user=s64",
      "userId": "00329270583361032720"
     },
     "user_tz": 180
    },
    "id": "THM-JQBAxdAW",
    "outputId": "b2f3f466-0bb3-4e29-b699-4b384d9e2f3c"
   },
   "outputs": [],
   "source": [
    "np.isnan(np.nan)"
   ]
  },
  {
   "cell_type": "code",
   "execution_count": null,
   "metadata": {
    "colab": {
     "base_uri": "https://localhost:8080/",
     "height": 165
    },
    "executionInfo": {
     "elapsed": 376,
     "status": "error",
     "timestamp": 1643118637572,
     "user": {
      "displayName": "Ignorância Zero",
      "photoUrl": "https://lh3.googleusercontent.com/a/default-user=s64",
      "userId": "00329270583361032720"
     },
     "user_tz": 180
    },
    "id": "Y0O4LocIgJ2z",
    "outputId": "3df45280-4726-4b99-8f5f-92ad314f3842"
   },
   "outputs": [],
   "source": [
    "np.isnan(None)"
   ]
  },
  {
   "cell_type": "markdown",
   "metadata": {
    "id": "id-8JImQfT0Z"
   },
   "source": [
    "np.inf -> Infinito, representa valores infinitos"
   ]
  },
  {
   "cell_type": "code",
   "execution_count": null,
   "metadata": {
    "colab": {
     "base_uri": "https://localhost:8080/"
    },
    "executionInfo": {
     "elapsed": 328,
     "status": "ok",
     "timestamp": 1643118685738,
     "user": {
      "displayName": "Ignorância Zero",
      "photoUrl": "https://lh3.googleusercontent.com/a/default-user=s64",
      "userId": "00329270583361032720"
     },
     "user_tz": 180
    },
    "id": "ZQ0MsZLDxdAW",
    "outputId": "83401dc5-7035-4b81-b52e-86f3937372b1"
   },
   "outputs": [],
   "source": [
    "arr = np.array([1, 2, np.inf, 4, -np.inf])\n",
    "arr"
   ]
  },
  {
   "cell_type": "code",
   "execution_count": null,
   "metadata": {
    "colab": {
     "base_uri": "https://localhost:8080/"
    },
    "executionInfo": {
     "elapsed": 323,
     "status": "ok",
     "timestamp": 1643118702400,
     "user": {
      "displayName": "Ignorância Zero",
      "photoUrl": "https://lh3.googleusercontent.com/a/default-user=s64",
      "userId": "00329270583361032720"
     },
     "user_tz": 180
    },
    "id": "2POQytJWgYAD",
    "outputId": "8af73d91-a009-4a22-dd01-20ecde812587"
   },
   "outputs": [],
   "source": [
    "np.isfinite(arr)"
   ]
  },
  {
   "cell_type": "code",
   "execution_count": null,
   "metadata": {
    "colab": {
     "base_uri": "https://localhost:8080/"
    },
    "executionInfo": {
     "elapsed": 441,
     "status": "ok",
     "timestamp": 1643118732916,
     "user": {
      "displayName": "Ignorância Zero",
      "photoUrl": "https://lh3.googleusercontent.com/a/default-user=s64",
      "userId": "00329270583361032720"
     },
     "user_tz": 180
    },
    "id": "L5KRSzZLgfkT",
    "outputId": "b806dd30-9822-48f9-daef-a0d38b133280"
   },
   "outputs": [],
   "source": [
    "np.ones(3) / 0"
   ]
  },
  {
   "cell_type": "markdown",
   "metadata": {
    "id": "nNlYFVDWfT0a"
   },
   "source": [
    "Constantes numéricas:\n",
    "- np.pi: 3.14 (constante PI)\n",
    "- np.e: 2.72 (número de euler)"
   ]
  },
  {
   "cell_type": "code",
   "execution_count": null,
   "metadata": {
    "colab": {
     "base_uri": "https://localhost:8080/"
    },
    "executionInfo": {
     "elapsed": 362,
     "status": "ok",
     "timestamp": 1643118757502,
     "user": {
      "displayName": "Ignorância Zero",
      "photoUrl": "https://lh3.googleusercontent.com/a/default-user=s64",
      "userId": "00329270583361032720"
     },
     "user_tz": 180
    },
    "id": "1VNMyYzPxdAW",
    "outputId": "fb356daa-5d17-4c1b-a84a-597d0487b02e"
   },
   "outputs": [],
   "source": [
    "np.pi"
   ]
  },
  {
   "cell_type": "code",
   "execution_count": null,
   "metadata": {
    "colab": {
     "base_uri": "https://localhost:8080/"
    },
    "executionInfo": {
     "elapsed": 311,
     "status": "ok",
     "timestamp": 1643118771772,
     "user": {
      "displayName": "Ignorância Zero",
      "photoUrl": "https://lh3.googleusercontent.com/a/default-user=s64",
      "userId": "00329270583361032720"
     },
     "user_tz": 180
    },
    "id": "lErG4TQigpST",
    "outputId": "70cccc8f-e3d7-49e1-dc9e-dc00d3b73924"
   },
   "outputs": [],
   "source": [
    "np.e"
   ]
  },
  {
   "cell_type": "markdown",
   "metadata": {
    "id": "lFOB4ZIAfT0b"
   },
   "source": [
    "---"
   ]
  },
  {
   "cell_type": "markdown",
   "metadata": {
    "id": "VwHk1L765due"
   },
   "source": [
    "## Filtros "
   ]
  },
  {
   "cell_type": "markdown",
   "metadata": {
    "id": "hb9_UGJX-gwF"
   },
   "source": [
    "Uma particularidade interessante de arrays é a habilidade de realizar filtros de seus dados a partir de comparações booleanas."
   ]
  },
  {
   "cell_type": "code",
   "execution_count": null,
   "metadata": {
    "ExecuteTime": {
     "end_time": "2021-09-17T14:11:17.875050Z",
     "start_time": "2021-09-17T14:11:17.867071Z"
    },
    "colab": {
     "base_uri": "https://localhost:8080/"
    },
    "executionInfo": {
     "elapsed": 205,
     "status": "ok",
     "timestamp": 1643131596690,
     "user": {
      "displayName": "Ignorância Zero",
      "photoUrl": "https://lh3.googleusercontent.com/a/default-user=s64",
      "userId": "00329270583361032720"
     },
     "user_tz": 180
    },
    "id": "W6KmR7QF5due",
    "outputId": "1912c602-0d25-43c8-bddc-ad8fbe58e1c6"
   },
   "outputs": [],
   "source": [
    "np.random.seed(42)\n",
    "arr = np.random.randint(0, 100, size=10)\n",
    "arr"
   ]
  },
  {
   "cell_type": "markdown",
   "metadata": {
    "id": "59irdyMHEiR9"
   },
   "source": [
    "Ao gerar uma comparação (tratando arrays como uma variável) o resultado é um array de booleanos com o resultado da comparação de cada elemento do array"
   ]
  },
  {
   "cell_type": "code",
   "execution_count": null,
   "metadata": {
    "ExecuteTime": {
     "end_time": "2021-09-17T14:11:18.663205Z",
     "start_time": "2021-09-17T14:11:18.652264Z"
    },
    "colab": {
     "base_uri": "https://localhost:8080/"
    },
    "executionInfo": {
     "elapsed": 195,
     "status": "ok",
     "timestamp": 1643131663674,
     "user": {
      "displayName": "Ignorância Zero",
      "photoUrl": "https://lh3.googleusercontent.com/a/default-user=s64",
      "userId": "00329270583361032720"
     },
     "user_tz": 180
    },
    "id": "nV_Iti9oEEWy",
    "outputId": "18fac53c-07f1-47a3-f69e-21d6deb7dd40"
   },
   "outputs": [],
   "source": [
    "arr > 50"
   ]
  },
  {
   "cell_type": "markdown",
   "metadata": {
    "id": "VPsu9OxEE5h3"
   },
   "source": [
    "Essas comparações também aceitam os operadores lógicos and/or/not, entretanto os mesmos devem vir no formato &/|/~ (respectivamente) e, além disso, obrigatoriamente necessitam de () para cada operação lógica"
   ]
  },
  {
   "cell_type": "code",
   "execution_count": null,
   "metadata": {
    "colab": {
     "base_uri": "https://localhost:8080/",
     "height": 165
    },
    "executionInfo": {
     "elapsed": 229,
     "status": "error",
     "timestamp": 1643131708869,
     "user": {
      "displayName": "Ignorância Zero",
      "photoUrl": "https://lh3.googleusercontent.com/a/default-user=s64",
      "userId": "00329270583361032720"
     },
     "user_tz": 180
    },
    "id": "hVpqaKhQxdAY",
    "outputId": "6e95dbbb-1b33-49fb-e567-ff4fbb45880c"
   },
   "outputs": [],
   "source": [
    "arr > 50 and arr < 75"
   ]
  },
  {
   "cell_type": "code",
   "execution_count": null,
   "metadata": {
    "colab": {
     "base_uri": "https://localhost:8080/",
     "height": 165
    },
    "executionInfo": {
     "elapsed": 226,
     "status": "error",
     "timestamp": 1643131771626,
     "user": {
      "displayName": "Ignorância Zero",
      "photoUrl": "https://lh3.googleusercontent.com/a/default-user=s64",
      "userId": "00329270583361032720"
     },
     "user_tz": 180
    },
    "id": "eEvRHA7aSPYj",
    "outputId": "e24a0fd2-b2ca-422a-9053-44dbfcb06591"
   },
   "outputs": [],
   "source": [
    "arr > 50 & arr < 75"
   ]
  },
  {
   "cell_type": "code",
   "execution_count": null,
   "metadata": {
    "colab": {
     "base_uri": "https://localhost:8080/"
    },
    "executionInfo": {
     "elapsed": 234,
     "status": "ok",
     "timestamp": 1643131810267,
     "user": {
      "displayName": "Ignorância Zero",
      "photoUrl": "https://lh3.googleusercontent.com/a/default-user=s64",
      "userId": "00329270583361032720"
     },
     "user_tz": 180
    },
    "id": "_UBvQ68JSXwB",
    "outputId": "64da8dd0-ae52-4719-de9a-23d8a8aedacb"
   },
   "outputs": [],
   "source": [
    "(arr > 50) & (arr < 75)"
   ]
  },
  {
   "cell_type": "markdown",
   "metadata": {
    "id": "m0O8fkiKFJKo"
   },
   "source": [
    "O filtro do array ocorre ao passar uma comparação como parte da sintaxe de chaves, de forma que é como se estivessemos indexando o array onde o resultado da comparação lógica é verdadeiro"
   ]
  },
  {
   "cell_type": "code",
   "execution_count": null,
   "metadata": {
    "colab": {
     "base_uri": "https://localhost:8080/"
    },
    "executionInfo": {
     "elapsed": 243,
     "status": "ok",
     "timestamp": 1643131895057,
     "user": {
      "displayName": "Ignorância Zero",
      "photoUrl": "https://lh3.googleusercontent.com/a/default-user=s64",
      "userId": "00329270583361032720"
     },
     "user_tz": 180
    },
    "id": "2SxraOfwxdAY",
    "outputId": "f916c84a-adca-4d8a-d92a-1821773bb9e4"
   },
   "outputs": [],
   "source": [
    "arr[(arr > 50) & (arr < 75)]"
   ]
  },
  {
   "cell_type": "markdown",
   "metadata": {
    "id": "OatBWtduFhFg"
   },
   "source": [
    "Uma função muito interessante criada com esse propósito é where, na qual espera-se receber como primeiro input um comparação e devolve como output os indices na qual a comparação é verdadeira"
   ]
  },
  {
   "cell_type": "code",
   "execution_count": null,
   "metadata": {
    "colab": {
     "base_uri": "https://localhost:8080/"
    },
    "executionInfo": {
     "elapsed": 230,
     "status": "ok",
     "timestamp": 1643131982346,
     "user": {
      "displayName": "Ignorância Zero",
      "photoUrl": "https://lh3.googleusercontent.com/a/default-user=s64",
      "userId": "00329270583361032720"
     },
     "user_tz": 180
    },
    "id": "kqy2OAp7xdAY",
    "outputId": "177f4826-1f28-45a3-b398-b7dd65652e40"
   },
   "outputs": [],
   "source": [
    "np.where((arr > 50) & (arr < 75))"
   ]
  },
  {
   "cell_type": "markdown",
   "metadata": {
    "id": "ym-doPVNF66l"
   },
   "source": [
    "Alternativamente ainda podemos passar mais dois parâmetros para a função where, de tal forma que criaremos um novo array obtendo o segundo parametro como resultado onde a comparação é verdadeira e o terceiro onde a comparação é falsa"
   ]
  },
  {
   "cell_type": "code",
   "execution_count": null,
   "metadata": {
    "ExecuteTime": {
     "end_time": "2021-09-17T14:11:23.286656Z",
     "start_time": "2021-09-17T14:11:23.275714Z"
    },
    "colab": {
     "base_uri": "https://localhost:8080/"
    },
    "executionInfo": {
     "elapsed": 220,
     "status": "ok",
     "timestamp": 1643132038355,
     "user": {
      "displayName": "Ignorância Zero",
      "photoUrl": "https://lh3.googleusercontent.com/a/default-user=s64",
      "userId": "00329270583361032720"
     },
     "user_tz": 180
    },
    "id": "UxLixSzIFy1K",
    "outputId": "1227e804-50d1-447b-ed76-4ed2d2d2d36a"
   },
   "outputs": [],
   "source": [
    "np.where((arr > 50) & (arr < 75), \"Papai Noel é Top\", \"Papai Noel é Gordo\")"
   ]
  },
  {
   "cell_type": "markdown",
   "metadata": {
    "id": "akZaoirGfT0f"
   },
   "source": [
    "Nós inclusive conseguimos fazer alterações em arrays utilizando filtros"
   ]
  },
  {
   "cell_type": "code",
   "execution_count": null,
   "metadata": {
    "ExecuteTime": {
     "end_time": "2021-09-17T14:11:24.001650Z",
     "start_time": "2021-09-17T14:11:23.996663Z"
    },
    "colab": {
     "base_uri": "https://localhost:8080/"
    },
    "executionInfo": {
     "elapsed": 211,
     "status": "ok",
     "timestamp": 1643132107656,
     "user": {
      "displayName": "Ignorância Zero",
      "photoUrl": "https://lh3.googleusercontent.com/a/default-user=s64",
      "userId": "00329270583361032720"
     },
     "user_tz": 180
    },
    "id": "hSRlaGCbfT0g",
    "outputId": "ba4c0405-caeb-427a-f12f-f09a13fb2179"
   },
   "outputs": [],
   "source": [
    "arr[(arr > 50) & (arr < 75)] = -1\n",
    "arr"
   ]
  },
  {
   "cell_type": "markdown",
   "metadata": {
    "id": "sYSptHTefT0g"
   },
   "source": [
    "Além dos comparadores lógicos entre elementos, o numpy ainda contém agregadores lógicos tais com as funções nativas de python all e any, na qual checamos se todos (all) elementos de uma sequência são verdadeiros ou se algum (any) dos elementos são verdadeiros"
   ]
  },
  {
   "cell_type": "code",
   "execution_count": null,
   "metadata": {
    "ExecuteTime": {
     "end_time": "2021-09-17T14:11:24.811820Z",
     "start_time": "2021-09-17T14:11:24.795863Z"
    },
    "colab": {
     "base_uri": "https://localhost:8080/"
    },
    "executionInfo": {
     "elapsed": 285,
     "status": "ok",
     "timestamp": 1643132290055,
     "user": {
      "displayName": "Ignorância Zero",
      "photoUrl": "https://lh3.googleusercontent.com/a/default-user=s64",
      "userId": "00329270583361032720"
     },
     "user_tz": 180
    },
    "id": "HKA3y-05fT0g",
    "outputId": "48b1d0a5-5600-4346-87cb-279ef91d8c76"
   },
   "outputs": [],
   "source": [
    "np.random.seed(42)\n",
    "arr = np.random.randint(0, 100, size=10)\n",
    "\n",
    "print(arr)\n",
    "print((arr > 50) & (arr < 75))\n",
    "\n",
    "print(all((arr > 50) & (arr < 75)))\n",
    "print(np.all((arr > 50) & (arr < 75)))\n",
    "\n",
    "print(any((arr > 50) & (arr < 75)))\n",
    "print(np.any((arr > 50) & (arr < 75)))"
   ]
  },
  {
   "cell_type": "markdown",
   "metadata": {
    "id": "u_5RBhqafT0h"
   },
   "source": [
    "A vantagem dos operadores do numpy em contrapartida as funções do Python é a possibilidade de fazer isso em arrays multidimensionais, até mesmo selecionando eixos específicos"
   ]
  },
  {
   "cell_type": "code",
   "execution_count": null,
   "metadata": {
    "ExecuteTime": {
     "end_time": "2021-09-17T14:11:25.656035Z",
     "start_time": "2021-09-17T14:11:25.644068Z"
    },
    "colab": {
     "base_uri": "https://localhost:8080/"
    },
    "executionInfo": {
     "elapsed": 206,
     "status": "ok",
     "timestamp": 1643132344695,
     "user": {
      "displayName": "Ignorância Zero",
      "photoUrl": "https://lh3.googleusercontent.com/a/default-user=s64",
      "userId": "00329270583361032720"
     },
     "user_tz": 180
    },
    "id": "kzCKmDYHfT0h",
    "outputId": "3f290c3e-48df-499b-e0db-6bb6bd3788fe"
   },
   "outputs": [],
   "source": [
    "arr.reshape(2, 5) < 70"
   ]
  },
  {
   "cell_type": "markdown",
   "metadata": {
    "id": "I19E0TflfT0h"
   },
   "source": [
    "<img src=\"https://predictivehacks.com/wp-content/uploads/2020/08/numpy_arrays-1024x572.png\" width=400 height=300/>"
   ]
  },
  {
   "cell_type": "code",
   "execution_count": null,
   "metadata": {
    "colab": {
     "base_uri": "https://localhost:8080/",
     "height": 165
    },
    "executionInfo": {
     "elapsed": 245,
     "status": "error",
     "timestamp": 1643132362906,
     "user": {
      "displayName": "Ignorância Zero",
      "photoUrl": "https://lh3.googleusercontent.com/a/default-user=s64",
      "userId": "00329270583361032720"
     },
     "user_tz": 180
    },
    "id": "98DHBN59xdAa",
    "outputId": "2384ee89-3672-435c-fca4-ad43362702c3"
   },
   "outputs": [],
   "source": [
    "all(arr.reshape(2, 5) < 70)"
   ]
  },
  {
   "cell_type": "code",
   "execution_count": null,
   "metadata": {
    "colab": {
     "base_uri": "https://localhost:8080/"
    },
    "executionInfo": {
     "elapsed": 228,
     "status": "ok",
     "timestamp": 1643132416677,
     "user": {
      "displayName": "Ignorância Zero",
      "photoUrl": "https://lh3.googleusercontent.com/a/default-user=s64",
      "userId": "00329270583361032720"
     },
     "user_tz": 180
    },
    "id": "GNx7YcHIUsrR",
    "outputId": "9c7f82e3-d54b-4a1e-c8c6-c982f3aaedc2"
   },
   "outputs": [],
   "source": [
    "np.all(arr.reshape(2, 5) < 70)"
   ]
  },
  {
   "cell_type": "code",
   "execution_count": null,
   "metadata": {
    "colab": {
     "base_uri": "https://localhost:8080/"
    },
    "executionInfo": {
     "elapsed": 211,
     "status": "ok",
     "timestamp": 1643132520134,
     "user": {
      "displayName": "Ignorância Zero",
      "photoUrl": "https://lh3.googleusercontent.com/a/default-user=s64",
      "userId": "00329270583361032720"
     },
     "user_tz": 180
    },
    "id": "47Uk0gxZUyqy",
    "outputId": "c2aa3571-52e2-445a-f5a7-4b4cc1329591"
   },
   "outputs": [],
   "source": [
    "np.all(arr.reshape(2, 5) < 70, axis=0)"
   ]
  },
  {
   "cell_type": "markdown",
   "metadata": {
    "id": "KZozKqb9fT0i"
   },
   "source": [
    "Por fim, vale destacar que as mesmas regras de broadcast que se aplicam a operações matemáticas se aplicam a operadores lógicos"
   ]
  },
  {
   "cell_type": "code",
   "execution_count": null,
   "metadata": {
    "ExecuteTime": {
     "end_time": "2021-09-17T14:11:34.798172Z",
     "start_time": "2021-09-17T14:11:34.780220Z"
    },
    "colab": {
     "base_uri": "https://localhost:8080/"
    },
    "executionInfo": {
     "elapsed": 230,
     "status": "ok",
     "timestamp": 1643132564362,
     "user": {
      "displayName": "Ignorância Zero",
      "photoUrl": "https://lh3.googleusercontent.com/a/default-user=s64",
      "userId": "00329270583361032720"
     },
     "user_tz": 180
    },
    "id": "jkI1GydCfT0j",
    "outputId": "e14eeda4-f26f-4277-c97b-8f716f1c3575"
   },
   "outputs": [],
   "source": [
    "arr.reshape(2, 5) > np.array([20, 30, 40, 50, 60])"
   ]
  },
  {
   "cell_type": "code",
   "execution_count": null,
   "metadata": {
    "colab": {
     "base_uri": "https://localhost:8080/"
    },
    "executionInfo": {
     "elapsed": 243,
     "status": "ok",
     "timestamp": 1643132619737,
     "user": {
      "displayName": "Ignorância Zero",
      "photoUrl": "https://lh3.googleusercontent.com/a/default-user=s64",
      "userId": "00329270583361032720"
     },
     "user_tz": 180
    },
    "id": "BAM-umk6VdmB",
    "outputId": "9bca5664-14cc-43fa-e703-07a9471c661f"
   },
   "outputs": [],
   "source": [
    "arr.reshape(2, 5, 1) > np.array([20, 30, 40, 50, 60])"
   ]
  },
  {
   "cell_type": "markdown",
   "metadata": {
    "id": "sefblbzqfT0j"
   },
   "source": [
    "---"
   ]
  },
  {
   "cell_type": "markdown",
   "metadata": {
    "id": "48b7PmSFfT0b"
   },
   "source": [
    "**Exercício**\n",
    "\n",
    "Substitua todos os valores nulos de um array por 0"
   ]
  },
  {
   "cell_type": "code",
   "execution_count": null,
   "metadata": {
    "ExecuteTime": {
     "end_time": "2021-09-17T14:17:02.702154Z",
     "start_time": "2021-09-17T14:17:02.686197Z"
    },
    "id": "AKnI3nXhfT0b",
    "solution2": "hidden",
    "solution2_first": true
   },
   "outputs": [],
   "source": [
    "np.random.seed(42)\n",
    "array = np.random.choice([1, 2, 3, 4, 5, 6, 7, 8, 9, 10, np.nan], size=(5, 5))"
   ]
  },
  {
   "cell_type": "code",
   "execution_count": null,
   "metadata": {
    "cellView": "form",
    "id": "VFTF1uDifT0b",
    "solution2": "hidden"
   },
   "outputs": [],
   "source": [
    "#@title Resposta\n",
    "np.random.seed(42)\n",
    "array = np.random.choice([1, 2, 3, 4, 5, 6, 7, 8, 9, 10, np.nan], size=(5, 5))\n",
    "print(array)\n",
    "array[np.isnan(array)] = 0\n",
    "print(array)"
   ]
  },
  {
   "cell_type": "markdown",
   "metadata": {
    "id": "EkgFTWM7fT0j"
   },
   "source": [
    "**Exercício**\n",
    "\n",
    "Dadas duas matrizes, A de dimensão 8x3 e B de dimensão 2x2, encontre as linhas de A que possuem algum elemento de ambas as linhas de B. Cada linha de A não precisa ter todos os elementos, mas ao menos 1 de cada linha, independente da ordem.\n",
    "\n",
    "NOTA: Este exercício pode ser 100% resolvido com arrays. Pense com utilizar broadcasting a seu favor\n",
    "\n",
    "Exemplo:\n",
    "\n",
    "    A = [3, 4, 2]\n",
    "        [4, 4, 1]\n",
    "        [2, 2, 2]\n",
    "        [4, 3, 2]\n",
    "        [4, 1, 3]\n",
    "        [1, 3, 4]\n",
    "        [0, 3, 1]\n",
    "        [4, 3, 0]\n",
    "        \n",
    "    B = [0, 2]\n",
    "        [2, 1]\n",
    "        \n",
    "    0 -> contém 2 que está em ambas linhas de B\n",
    "    1 -> não contém nenhum elemento da primeira linha de B\n",
    "    2 -> contém 2 que está em ambas linhas de B\n",
    "    3 -> contém 2 que está em ambas linhas de B\n",
    "    4 -> não contém nenhum elemento da primeira linha de B\n",
    "    5 -> não contém nenhum elemento da primeira linha de B\n",
    "    6 -> contém 0 que está na primeira linha e 1 que está na segunda\n",
    "    7 -> não contém nenhum elemento da segunda linha de B\n",
    "    \n",
    "    Saída = [0 2 3 6]"
   ]
  },
  {
   "cell_type": "code",
   "execution_count": null,
   "metadata": {
    "id": "F7ARWtQOfT0o",
    "solution2": "hidden",
    "solution2_first": true
   },
   "outputs": [],
   "source": [
    "np.random.seed(42)\n",
    "A = np.random.randint(0, 5, (8, 3))\n",
    "B = np.random.randint(0, 5, (2, 2))"
   ]
  },
  {
   "cell_type": "code",
   "execution_count": null,
   "metadata": {
    "cellView": "form",
    "id": "bTpLNxXKfT0o",
    "solution2": "hidden"
   },
   "outputs": [],
   "source": [
    "#@title Resposta\n",
    "np.random.seed(42)\n",
    "A = np.random.randint(0, 5, (8, 3))\n",
    "B = np.random.randint(0, 5, (2, 2))\n",
    "\n",
    "# ao fazer o reshape de A nós podemos compara-lo com b\n",
    "# de forma que obteremos um array 8x3x2x2, no qual o que \n",
    "# obteremos é como se fosse a matriz B comparada a cada \n",
    "# elemento A\n",
    "C = (A.reshape(8, 3, 1, 1) == B)\n",
    "\n",
    "# em seguida nós precisamos garantir que nos eixos finais\n",
    "# haja um elemento verdadeiro em cada linha. Para fazer isto\n",
    "# bastaria usar a função any.\n",
    "# Pensando sequencialmente any(3) deveria nos dar se o elemento\n",
    "# da matriz A era parte de algum elemento de cada linha de B\n",
    "# resultando numa matriz 8x3x2\n",
    "# Depois se resumirmos os eixo 1, nós deveriamos obter uma matriz\n",
    "# 8x2, que nos diz se há, em cada linha de A, algum elemento numa\n",
    "# linha de B, para cada linha de B\n",
    "# Por fim podemos executar all para garantir que todos a linha de\n",
    "# A contenha elementos de todas as linhas de B\n",
    "contem = C.any(3).any(1).all(1)\n",
    "\n",
    "# por fim o np.where vai nos devolver os indices das linhas na qual\n",
    "# encontramos uma condição verdadeira\n",
    "linhas = np.where(contem)[0]\n",
    "\n",
    "print(linhas)"
   ]
  },
  {
   "cell_type": "markdown",
   "metadata": {
    "id": "gkVqHPjRfT0p"
   },
   "source": [
    "---"
   ]
  },
  {
   "cell_type": "markdown",
   "metadata": {
    "id": "h28jgwBb5due"
   },
   "source": [
    "## Funções "
   ]
  },
  {
   "cell_type": "markdown",
   "metadata": {
    "id": "IZwbkDbofT0p"
   },
   "source": [
    "Ao longo das sessões anteriores nós já vimos uma série de funcionalidades úteis que podem ser utilizadas para realizar cálculos especiais, como np.cross, np.isnan e assim vai. O Numpy é recheado dessas funções que nos ajudam a realizar todo o tipo de calculo, como algebra linear, estatística, funções matemáticas e mais.\n",
    "\n",
    "Poderíamos passar horas apenas só falando sobre essas diferentes funções, mas é verdade é que nós vamos nos familiarizando com elas conforme vamos aplicando-as em diferentes contexto.\n",
    "\n",
    "Abaixo nós agrupamos as funções que esperamos encontrar mais recorrentemente em nossos cálculos e colocamos alguns exemplos de como elas funcionam, além de alguns exercícios."
   ]
  },
  {
   "cell_type": "code",
   "execution_count": null,
   "metadata": {
    "ExecuteTime": {
     "end_time": "2021-09-17T14:11:43.084745Z",
     "start_time": "2021-09-17T14:11:43.067790Z"
    },
    "executionInfo": {
     "elapsed": 217,
     "status": "ok",
     "timestamp": 1643133684327,
     "user": {
      "displayName": "Ignorância Zero",
      "photoUrl": "https://lh3.googleusercontent.com/a/default-user=s64",
      "userId": "00329270583361032720"
     },
     "user_tz": 180
    },
    "id": "AhJDZriYfT0p"
   },
   "outputs": [],
   "source": [
    "np.random.seed(42)\n",
    "A = np.random.normal(loc=5, size=(5, 3))\n",
    "B = np.random.choice([\"A\", \"B\", \"C\"], size=(5, 3))\n",
    "C = np.array([0, 1, 2, 0, 4, 5])\n",
    "D = np.random.normal(size=(5, 3))"
   ]
  },
  {
   "cell_type": "markdown",
   "metadata": {
    "id": "3PfWMaoyfT0p"
   },
   "source": [
    "**Agregação**:\n",
    "- np.mean: Calcula a média\n",
    "- np.median: Calcula a mediana\n",
    "- np.min: Calcula o valor mínimo\n",
    "- np.max: Calcula o valor máximo\n",
    "- np.std: Calcula o desvio-padrão\n",
    "- np.var: Calcula a variância\n",
    "- np.percentile: Calcula o percentil específicado\n",
    "- np.sum: Calcula a soma de todos os elementos\n",
    "- np.count_nonzero: Realiza a contagem dos elementos não nulos do array\n",
    "- np.unique: Obtém os valores únicos de um array"
   ]
  },
  {
   "cell_type": "code",
   "execution_count": null,
   "metadata": {
    "colab": {
     "base_uri": "https://localhost:8080/"
    },
    "executionInfo": {
     "elapsed": 213,
     "status": "ok",
     "timestamp": 1643133741141,
     "user": {
      "displayName": "Ignorância Zero",
      "photoUrl": "https://lh3.googleusercontent.com/a/default-user=s64",
      "userId": "00329270583361032720"
     },
     "user_tz": 180
    },
    "id": "uj1IkGXlxdAe",
    "outputId": "5f29241e-cc50-4dfd-a02a-c9b1bc2ca6dc"
   },
   "outputs": [],
   "source": [
    "print(A, np.mean(A))"
   ]
  },
  {
   "cell_type": "code",
   "execution_count": null,
   "metadata": {
    "colab": {
     "base_uri": "https://localhost:8080/"
    },
    "executionInfo": {
     "elapsed": 211,
     "status": "ok",
     "timestamp": 1643133779841,
     "user": {
      "displayName": "Ignorância Zero",
      "photoUrl": "https://lh3.googleusercontent.com/a/default-user=s64",
      "userId": "00329270583361032720"
     },
     "user_tz": 180
    },
    "id": "NdyJym2nZ2NC",
    "outputId": "1ddb791f-6f2d-4c96-ba78-4d45f18a2e10"
   },
   "outputs": [],
   "source": [
    "print(A, np.mean(A, axis=1))"
   ]
  },
  {
   "cell_type": "code",
   "execution_count": null,
   "metadata": {
    "colab": {
     "base_uri": "https://localhost:8080/"
    },
    "executionInfo": {
     "elapsed": 217,
     "status": "ok",
     "timestamp": 1643133818459,
     "user": {
      "displayName": "Ignorância Zero",
      "photoUrl": "https://lh3.googleusercontent.com/a/default-user=s64",
      "userId": "00329270583361032720"
     },
     "user_tz": 180
    },
    "id": "6TXgB-5XaBWx",
    "outputId": "7b12a24f-8a0a-4d0d-edcd-9f7e5c75650a"
   },
   "outputs": [],
   "source": [
    "print(A, np.percentile(A, 0.25))"
   ]
  },
  {
   "cell_type": "code",
   "execution_count": null,
   "metadata": {
    "colab": {
     "base_uri": "https://localhost:8080/"
    },
    "executionInfo": {
     "elapsed": 222,
     "status": "ok",
     "timestamp": 1643133857303,
     "user": {
      "displayName": "Ignorância Zero",
      "photoUrl": "https://lh3.googleusercontent.com/a/default-user=s64",
      "userId": "00329270583361032720"
     },
     "user_tz": 180
    },
    "id": "-OX5ZPAlaHTi",
    "outputId": "35c208f9-d567-4cc6-cbeb-a6ec6e8d5175"
   },
   "outputs": [],
   "source": [
    "print(B, np.unique(B))"
   ]
  },
  {
   "cell_type": "code",
   "execution_count": null,
   "metadata": {
    "colab": {
     "base_uri": "https://localhost:8080/"
    },
    "executionInfo": {
     "elapsed": 204,
     "status": "ok",
     "timestamp": 1643133879272,
     "user": {
      "displayName": "Ignorância Zero",
      "photoUrl": "https://lh3.googleusercontent.com/a/default-user=s64",
      "userId": "00329270583361032720"
     },
     "user_tz": 180
    },
    "id": "yz6VabataQnC",
    "outputId": "3890738f-39f9-4294-93e3-6d53d3766e12"
   },
   "outputs": [],
   "source": [
    "print(C, C.shape, np.count_nonzero(C))"
   ]
  },
  {
   "cell_type": "markdown",
   "metadata": {
    "id": "eVpoKbXAfT0r"
   },
   "source": [
    "**Transformação**:\n",
    "\n",
    "- np.ceil: Arredonda os valores de um array para cima\n",
    "- np.floor: Arredonda os valores de um array para baixo\n",
    "- np.round: Arredonda os valores de um array para as casas decimais desejadas\n",
    "- np.trunc: Remove as casas decimais do valor numérico\n",
    "- np.abs: Calcula o valor absoluto dos elementos\n",
    "- np.sign: Obtém os sinais dos números de um array"
   ]
  },
  {
   "cell_type": "code",
   "execution_count": null,
   "metadata": {
    "colab": {
     "base_uri": "https://localhost:8080/"
    },
    "executionInfo": {
     "elapsed": 289,
     "status": "ok",
     "timestamp": 1643133919093,
     "user": {
      "displayName": "Ignorância Zero",
      "photoUrl": "https://lh3.googleusercontent.com/a/default-user=s64",
      "userId": "00329270583361032720"
     },
     "user_tz": 180
    },
    "id": "bUa1QpaQxdAf",
    "outputId": "bb574c6b-fe94-4172-845b-764c3ca4219d"
   },
   "outputs": [],
   "source": [
    "print(A, np.ceil(A))"
   ]
  },
  {
   "cell_type": "code",
   "execution_count": null,
   "metadata": {
    "colab": {
     "base_uri": "https://localhost:8080/"
    },
    "executionInfo": {
     "elapsed": 212,
     "status": "ok",
     "timestamp": 1643133942029,
     "user": {
      "displayName": "Ignorância Zero",
      "photoUrl": "https://lh3.googleusercontent.com/a/default-user=s64",
      "userId": "00329270583361032720"
     },
     "user_tz": 180
    },
    "id": "Z3BCU5wCahWR",
    "outputId": "93469354-1441-4542-d18b-d0ecbcb99716"
   },
   "outputs": [],
   "source": [
    "print(A, np.round(A, 2))"
   ]
  },
  {
   "cell_type": "code",
   "execution_count": null,
   "metadata": {
    "colab": {
     "base_uri": "https://localhost:8080/"
    },
    "executionInfo": {
     "elapsed": 214,
     "status": "ok",
     "timestamp": 1643133962123,
     "user": {
      "displayName": "Ignorância Zero",
      "photoUrl": "https://lh3.googleusercontent.com/a/default-user=s64",
      "userId": "00329270583361032720"
     },
     "user_tz": 180
    },
    "id": "jyJP1qQyam6y",
    "outputId": "fd8d8c86-eed4-4756-cf18-5efa47d9a12b"
   },
   "outputs": [],
   "source": [
    "print(A, np.trunc(A))"
   ]
  },
  {
   "cell_type": "code",
   "execution_count": null,
   "metadata": {
    "colab": {
     "base_uri": "https://localhost:8080/"
    },
    "executionInfo": {
     "elapsed": 303,
     "status": "ok",
     "timestamp": 1643133991946,
     "user": {
      "displayName": "Ignorância Zero",
      "photoUrl": "https://lh3.googleusercontent.com/a/default-user=s64",
      "userId": "00329270583361032720"
     },
     "user_tz": 180
    },
    "id": "XdE9av2yaspS",
    "outputId": "fcdde68e-8f78-4b4d-aacb-861a4e880f86"
   },
   "outputs": [],
   "source": [
    "print(D, np.sign(D))"
   ]
  },
  {
   "cell_type": "markdown",
   "metadata": {
    "id": "-kAi26rcfT0s"
   },
   "source": [
    "**Função Matemática**: \n",
    "\n",
    "- np.exp: Realiza a exponenciação dos elementos\n",
    "- np.log: Aplica o log sobre os elementos\n",
    "- np.expm1: Aplica a função exp(x) - 1 sobre os elementos\n",
    "- np.log1p: Aplica a função log(x + 1) sobre os elementos\n",
    "- np.power: Eleva os elementos do array a uma potência\n",
    "- np.sqrt: Extraí a raíz quadrada dos números de um array\n",
    "- np.sin/cos/tan: Aplica a função seno/cosseno/tangente sobre os elementos\n",
    "- np.asin/acos/atan: Aplica a função de arc seno/cosseno/tangente sobre os elementos"
   ]
  },
  {
   "cell_type": "code",
   "execution_count": null,
   "metadata": {
    "colab": {
     "base_uri": "https://localhost:8080/"
    },
    "executionInfo": {
     "elapsed": 211,
     "status": "ok",
     "timestamp": 1643134038859,
     "user": {
      "displayName": "Ignorância Zero",
      "photoUrl": "https://lh3.googleusercontent.com/a/default-user=s64",
      "userId": "00329270583361032720"
     },
     "user_tz": 180
    },
    "id": "BBIy_rxmxdAf",
    "outputId": "e41a4304-f172-4ff4-8091-3748464e152e"
   },
   "outputs": [],
   "source": [
    "np.log(A)"
   ]
  },
  {
   "cell_type": "code",
   "execution_count": null,
   "metadata": {
    "colab": {
     "base_uri": "https://localhost:8080/"
    },
    "executionInfo": {
     "elapsed": 212,
     "status": "ok",
     "timestamp": 1643134054921,
     "user": {
      "displayName": "Ignorância Zero",
      "photoUrl": "https://lh3.googleusercontent.com/a/default-user=s64",
      "userId": "00329270583361032720"
     },
     "user_tz": 180
    },
    "id": "ZLQjy9Yca9_x",
    "outputId": "61abdf8b-3295-4307-9831-b0e248c1433b"
   },
   "outputs": [],
   "source": [
    "np.sin(D)"
   ]
  },
  {
   "cell_type": "markdown",
   "metadata": {
    "id": "zrt23Os4fT0t"
   },
   "source": [
    "**Elemento a Elemento**\n",
    "- np.diff: Obtém a diferença entre valores sequenciais do array\n",
    "- np.cumsum: Obtém a soma dos valores cumulativos\n",
    "- np.cummin: Obtém o valor mínimo cumulativo do array\n",
    "- np.cummax: Obtém o valor máximo cumulativo do array\n",
    "- np.cumprod: Obtém o valor produto cumulativo do array"
   ]
  },
  {
   "cell_type": "code",
   "execution_count": null,
   "metadata": {
    "colab": {
     "base_uri": "https://localhost:8080/"
    },
    "executionInfo": {
     "elapsed": 215,
     "status": "ok",
     "timestamp": 1643134130786,
     "user": {
      "displayName": "Ignorância Zero",
      "photoUrl": "https://lh3.googleusercontent.com/a/default-user=s64",
      "userId": "00329270583361032720"
     },
     "user_tz": 180
    },
    "id": "LgLl-zNaxdAf",
    "outputId": "a2d66d18-2508-4b53-9b6f-6c36920634e6"
   },
   "outputs": [],
   "source": [
    "print(C, np.diff(C))"
   ]
  },
  {
   "cell_type": "code",
   "execution_count": null,
   "metadata": {
    "colab": {
     "base_uri": "https://localhost:8080/"
    },
    "executionInfo": {
     "elapsed": 231,
     "status": "ok",
     "timestamp": 1643134173650,
     "user": {
      "displayName": "Ignorância Zero",
      "photoUrl": "https://lh3.googleusercontent.com/a/default-user=s64",
      "userId": "00329270583361032720"
     },
     "user_tz": 180
    },
    "id": "HD3FofMsbbFC",
    "outputId": "fdf48f96-aee3-4cb3-816d-b3a4c058470f"
   },
   "outputs": [],
   "source": [
    "print(C, np.cumsum(C))"
   ]
  },
  {
   "cell_type": "markdown",
   "metadata": {
    "id": "szgA6aO35duf"
   },
   "source": [
    "---"
   ]
  },
  {
   "cell_type": "markdown",
   "metadata": {
    "ExecuteTime": {
     "end_time": "2021-09-16T15:18:30.851648Z",
     "start_time": "2021-09-16T15:18:30.835721Z"
    },
    "id": "3Z5El8ZofT0u"
   },
   "source": [
    "**Exercício**\n",
    "\n",
    "Obtenha os indices do array onde ocorrem os máximos locais, isto é o maior valor de uma sequência crescente de valores. \n",
    "\n",
    "Para o array de exemplo, estes valores são os 7 e 6, que ocorrem nos indices 2 e 5."
   ]
  },
  {
   "cell_type": "code",
   "execution_count": null,
   "metadata": {
    "ExecuteTime": {
     "end_time": "2021-09-16T17:23:45.050788Z",
     "start_time": "2021-09-16T17:23:45.042837Z"
    },
    "id": "OFEsQZPxfT0u",
    "solution2": "hidden",
    "solution2_first": true
   },
   "outputs": [],
   "source": [
    "a = np.array([1, 3, 7, 1, 2, 6, 0, 1])"
   ]
  },
  {
   "cell_type": "code",
   "execution_count": null,
   "metadata": {
    "cellView": "form",
    "id": "8UcRjg-LfT0u",
    "solution2": "hidden"
   },
   "outputs": [],
   "source": [
    "#@title Resposta\n",
    "a = np.array([1, 3, 7, 1, 2, 6, 0, 1])\n",
    "\n",
    "# obtém as diferenças entre um valor e o valor anterior\n",
    "diff = np.diff(a)\n",
    "print(diff)\n",
    "\n",
    "# extraí apenas o sinal da diferença, i.e. um array de 1 e -1\n",
    "sign = np.sign(diff)\n",
    "print(sign)\n",
    "\n",
    "# obtém a diferença no valor de sinais.\n",
    "# Se tivermos 0, significa que temos dois crescimentos ou decrescimentos seguidos\n",
    "# Se tivermos 2, significa que há um decrescimento seguido de um crescimento\n",
    "# Se tivermos -2, significa que há um crescimento seguido de um decrescimento\n",
    "cres = np.diff(sign)\n",
    "print(cres)\n",
    "\n",
    "# os máximos locais ocorrem no indice do -2\n",
    "max_local = np.where(cres == -2)[0] + 1\n",
    "print(max_local)"
   ]
  },
  {
   "cell_type": "markdown",
   "metadata": {
    "ExecuteTime": {
     "end_time": "2021-09-16T15:18:30.851648Z",
     "start_time": "2021-09-16T15:18:30.835721Z"
    },
    "id": "8GAo5cQofT0u"
   },
   "source": [
    "**Exercício**\n",
    "\n",
    "Crie uma função que calcule a média móvel de um array dado um tamanho de janela"
   ]
  },
  {
   "cell_type": "code",
   "execution_count": null,
   "metadata": {
    "ExecuteTime": {
     "end_time": "2021-09-16T19:03:45.597747Z",
     "start_time": "2021-09-16T19:03:45.588528Z"
    },
    "id": "bxwicOz8fT0v",
    "solution2": "hidden",
    "solution2_first": true
   },
   "outputs": [],
   "source": [
    "def media_movel(arr: np.ndarray, janela: int = 3) -> np.ndarray:\n",
    "    \"\"\"\n",
    "    Calcula o valor da média movel de um array\n",
    "    \n",
    "    :param arr: array com valores a serem calculados\n",
    "    :param janela: janela de cálculo\n",
    "    :return: array com média móvel\n",
    "    \"\"\"\n",
    "    pass"
   ]
  },
  {
   "cell_type": "code",
   "execution_count": null,
   "metadata": {
    "cellView": "form",
    "id": "c9NKSzM1fT0v",
    "solution2": "hidden"
   },
   "outputs": [],
   "source": [
    "#@title Resposta\n",
    "def media_movel(arr: np.ndarray, janela: int = 3) -> np.ndarray:\n",
    "    \"\"\"\n",
    "    Calcula o valor da média movel de um array\n",
    "    \n",
    "    :param arr: array com valores a serem calculados\n",
    "    :param janela: janela de cálculo\n",
    "    :return: array com média móvel\n",
    "    \"\"\"\n",
    "    # calcula a soma cumulativa de valores\n",
    "    soma = np.cumsum(arr)\n",
    "    \n",
    "    # aplica a diferença para obter a soma da janela\n",
    "    soma[janela:] = soma[janela:] - soma[:-janela]\n",
    "    \n",
    "    # calcula o valor de média\n",
    "    return soma[janela - 1:] / janela\n",
    "\n",
    "media_movel(np.arange(20))"
   ]
  },
  {
   "cell_type": "markdown",
   "metadata": {
    "id": "PP_j-gBb5duf"
   },
   "source": [
    "**Exercício**\n",
    "\n",
    "Para a maioria dos algoritmos preditivos não é possível processar texto diretamente, apesar de ser fácil encontrar relações entre dados qualitativos e variáveis quantitativas (por exemplo \n",
    "\n",
    "One-hot encoding é um método de codificação de dados categóricos, na qual nós transformamos dados categóricos em flags 1 e 0 de acordo com cada dado categórico. Desta forma, por exemplo, se uma lista de valores tem 5 categorias possiveis, para cada linha gerariamos 5 colunas com valores 1 e 0 de acordo com a categoria.\n",
    "\n",
    "Por exemplo se tivessemos\n",
    "\n",
    "    array -> [\"A\", \"A\", \"B\", \"A\", \"C\", \"B\"]\n",
    "\n",
    "Por meio do one-hot encoding obteriamos:\n",
    "    \n",
    "    array -> matriz ohe\n",
    "              A  B  C\n",
    "    A     -> [1, 0, 0]\n",
    "    A     -> [1, 0, 0]\n",
    "    B     -> [0, 1, 0]\n",
    "    A     -> [1, 0, 0]\n",
    "    C     -> [0, 0, 1]\n",
    "    B     -> [0, 1, 0]"
   ]
  },
  {
   "cell_type": "code",
   "execution_count": null,
   "metadata": {
    "ExecuteTime": {
     "end_time": "2021-09-16T18:43:30.059920Z",
     "start_time": "2021-09-16T18:43:30.052941Z"
    },
    "id": "bOwWsXoq5dug",
    "solution2": "hidden",
    "solution2_first": true
   },
   "outputs": [],
   "source": [
    "arr = np.array([\"A\", \"A\", \"B\", \"A\", \"C\", \"B\"])"
   ]
  },
  {
   "cell_type": "code",
   "execution_count": null,
   "metadata": {
    "cellView": "form",
    "id": "sh8NKzNcfT0w",
    "solution2": "hidden"
   },
   "outputs": [],
   "source": [
    "#@title Resposta\n",
    "arr = np.array([\"A\", \"A\", \"B\", \"A\", \"C\", \"B\"])\n",
    "\n",
    "# solução 1 - broadcast\n",
    "ohe1 = (arr.reshape(-1, 1) == np.unique(arr)).astype(\"uint8\")\n",
    "print(ohe1)\n",
    "\n",
    "# solução 2 - for loop\n",
    "unique = np.unique(arr)\n",
    "ohe2 = np.zeros((arr.shape[0], unique.shape[0]), dtype=\"uint8\")\n",
    "for i, k in enumerate(arr):\n",
    "    ohe2[i, np.where(unique == k)] = 1\n",
    "print(ohe2)"
   ]
  },
  {
   "cell_type": "markdown",
   "metadata": {
    "id": "JhRwvjcBfT0w"
   },
   "source": [
    "---"
   ]
  },
  {
   "cell_type": "markdown",
   "metadata": {
    "id": "B9fOmsD-fT0w"
   },
   "source": [
    "## Vetorização"
   ]
  },
  {
   "cell_type": "markdown",
   "metadata": {
    "id": "mRUen4WdfT0x"
   },
   "source": [
    "Apesar do numpy ter muitas funções pré-prontas, muitas vezes nós teremos que criar tratamentos de dados específicos e aplicar essas transformações para os arrays.\n",
    "\n",
    "Para fazer isso de forma eficiente o numpy conta com algumas funcionalidades de vetorização de funções. Na verdade as funções pré prontas que trabalhamos (np.sum, np.mean, etc.) nada mais são do que a versão vetorizada de funções conhecidas do python e da biblioteca math"
   ]
  },
  {
   "cell_type": "code",
   "execution_count": null,
   "metadata": {
    "ExecuteTime": {
     "end_time": "2021-09-17T14:12:12.918889Z",
     "start_time": "2021-09-17T14:12:09.823769Z"
    },
    "colab": {
     "base_uri": "https://localhost:8080/"
    },
    "executionInfo": {
     "elapsed": 5717,
     "status": "ok",
     "timestamp": 1643136368056,
     "user": {
      "displayName": "Ignorância Zero",
      "photoUrl": "https://lh3.googleusercontent.com/a/default-user=s64",
      "userId": "00329270583361032720"
     },
     "user_tz": 180
    },
    "id": "K52T-anBfT0x",
    "outputId": "9197f368-4cc0-4c0c-c24f-a624ab8871ef"
   },
   "outputs": [],
   "source": [
    "%%timeit\n",
    "sum(np.arange(5000))"
   ]
  },
  {
   "cell_type": "code",
   "execution_count": null,
   "metadata": {
    "colab": {
     "base_uri": "https://localhost:8080/"
    },
    "executionInfo": {
     "elapsed": 9555,
     "status": "ok",
     "timestamp": 1643136397963,
     "user": {
      "displayName": "Ignorância Zero",
      "photoUrl": "https://lh3.googleusercontent.com/a/default-user=s64",
      "userId": "00329270583361032720"
     },
     "user_tz": 180
    },
    "id": "nNFNcfJYj3lD",
    "outputId": "919b8424-842f-46d2-e39f-cab20ad27cb7"
   },
   "outputs": [],
   "source": [
    "%%timeit\n",
    "np.sum(np.arange(5000))"
   ]
  },
  {
   "cell_type": "markdown",
   "metadata": {
    "id": "kF8FkiHIfT0x"
   },
   "source": [
    "Entretanto o numpy nos oferece a flexibilidade de criar nossas próprias funções através de algumas funções específicas"
   ]
  },
  {
   "cell_type": "markdown",
   "metadata": {
    "id": "0FfnONNEfT0y"
   },
   "source": [
    "np.vectorize -> Define uma função vetorizada que leva uma sequência aninhada de objetos ou matrizes numpy como entradas e retorna uma única matriz numpy ou uma tupla de numpy matrizes. A função vetorizada avalia `pyfunc` em tuplas sucessivas das matrizes de entrada como a função de mapa python, exceto que usa o regras de transmissão de numpy."
   ]
  },
  {
   "cell_type": "code",
   "execution_count": null,
   "metadata": {
    "ExecuteTime": {
     "end_time": "2021-09-17T14:12:13.046091Z",
     "start_time": "2021-09-17T14:12:13.031841Z"
    },
    "executionInfo": {
     "elapsed": 201,
     "status": "ok",
     "timestamp": 1643136839026,
     "user": {
      "displayName": "Ignorância Zero",
      "photoUrl": "https://lh3.googleusercontent.com/a/default-user=s64",
      "userId": "00329270583361032720"
     },
     "user_tz": 180
    },
    "id": "9Kom6-6ufT0y"
   },
   "outputs": [],
   "source": [
    "func = np.vectorize(\n",
    "    pyfunc=lambda a, b: a + b if a < b else a - b,\n",
    "    otypes=[float],\n",
    "    doc=\"\"\"\n",
    "Dados dois arrays a e b calcula o valor da soma \n",
    "dos dois caso a < b e a subtração caso contrário\n",
    "\n",
    ":param a: array de dados a\n",
    ":param b: array de dados b\n",
    ":return: array com resultado da operação\n",
    "\"\"\",\n",
    "    cache=False,\n",
    "    # signature=\"(n), (m) -> (k)\"\n",
    ")"
   ]
  },
  {
   "cell_type": "code",
   "execution_count": null,
   "metadata": {
    "colab": {
     "base_uri": "https://localhost:8080/"
    },
    "executionInfo": {
     "elapsed": 331,
     "status": "ok",
     "timestamp": 1643136842569,
     "user": {
      "displayName": "Ignorância Zero",
      "photoUrl": "https://lh3.googleusercontent.com/a/default-user=s64",
      "userId": "00329270583361032720"
     },
     "user_tz": 180
    },
    "id": "1ULcIGoNkf9T",
    "outputId": "fb3dae70-9a61-434a-ee75-536b5dca93f6"
   },
   "outputs": [],
   "source": [
    "func(1, 2)"
   ]
  },
  {
   "cell_type": "code",
   "execution_count": null,
   "metadata": {
    "colab": {
     "base_uri": "https://localhost:8080/"
    },
    "executionInfo": {
     "elapsed": 4,
     "status": "ok",
     "timestamp": 1643136842795,
     "user": {
      "displayName": "Ignorância Zero",
      "photoUrl": "https://lh3.googleusercontent.com/a/default-user=s64",
      "userId": "00329270583361032720"
     },
     "user_tz": 180
    },
    "id": "vgAl5A7Qklwj",
    "outputId": "59e81bd0-554b-471a-c82c-243173b6f9f2"
   },
   "outputs": [],
   "source": [
    "func(3, 1)"
   ]
  },
  {
   "cell_type": "code",
   "execution_count": null,
   "metadata": {
    "colab": {
     "base_uri": "https://localhost:8080/"
    },
    "executionInfo": {
     "elapsed": 3,
     "status": "ok",
     "timestamp": 1643136843456,
     "user": {
      "displayName": "Ignorância Zero",
      "photoUrl": "https://lh3.googleusercontent.com/a/default-user=s64",
      "userId": "00329270583361032720"
     },
     "user_tz": 180
    },
    "id": "b-t1XOmWkp0z",
    "outputId": "965ed6d0-8e6b-4ea4-f262-be034cf99950"
   },
   "outputs": [],
   "source": [
    "func(np.array([1, 5, 3]), np.array([2, 4, 6]))"
   ]
  },
  {
   "cell_type": "code",
   "execution_count": null,
   "metadata": {
    "executionInfo": {
     "elapsed": 230,
     "status": "ok",
     "timestamp": 1643136934969,
     "user": {
      "displayName": "Ignorância Zero",
      "photoUrl": "https://lh3.googleusercontent.com/a/default-user=s64",
      "userId": "00329270583361032720"
     },
     "user_tz": 180
    },
    "id": "ZsUaLS88lvID"
   },
   "outputs": [],
   "source": [
    "func = np.vectorize(\n",
    "    pyfunc=lambda x: 1 / (1 + np.exp(-x)),\n",
    "    otypes=[float],\n",
    "    doc=\"\"\"\n",
    "Aplica a transformação sigmoid sob o array\n",
    "\n",
    ":param x: array de dados\n",
    ":return: array de dados transformados\n",
    "\"\"\",\n",
    "    cache=False,\n",
    "    signature=\"(n)->(n)\"\n",
    ")"
   ]
  },
  {
   "cell_type": "code",
   "execution_count": null,
   "metadata": {
    "colab": {
     "base_uri": "https://localhost:8080/",
     "height": 311
    },
    "executionInfo": {
     "elapsed": 218,
     "status": "error",
     "timestamp": 1643136939646,
     "user": {
      "displayName": "Ignorância Zero",
      "photoUrl": "https://lh3.googleusercontent.com/a/default-user=s64",
      "userId": "00329270583361032720"
     },
     "user_tz": 180
    },
    "id": "CUlsbIFnl-jU",
    "outputId": "806ea7a1-2fb7-45de-cd0c-4f9fb58dad1e"
   },
   "outputs": [],
   "source": [
    "func(2)"
   ]
  },
  {
   "cell_type": "code",
   "execution_count": null,
   "metadata": {
    "colab": {
     "base_uri": "https://localhost:8080/"
    },
    "executionInfo": {
     "elapsed": 217,
     "status": "ok",
     "timestamp": 1643136982387,
     "user": {
      "displayName": "Ignorância Zero",
      "photoUrl": "https://lh3.googleusercontent.com/a/default-user=s64",
      "userId": "00329270583361032720"
     },
     "user_tz": 180
    },
    "id": "BbHhEo1KmGPT",
    "outputId": "e3293c41-9700-466a-9fbc-7b38a9314033"
   },
   "outputs": [],
   "source": [
    "func(np.array([2, 3, 4]))"
   ]
  },
  {
   "cell_type": "markdown",
   "metadata": {
    "id": "e2YhcuDjfT0z"
   },
   "source": [
    "np.apply_along_axis -> Apply uma função a um slice 1-D de um array"
   ]
  },
  {
   "cell_type": "code",
   "execution_count": null,
   "metadata": {
    "colab": {
     "base_uri": "https://localhost:8080/"
    },
    "executionInfo": {
     "elapsed": 206,
     "status": "ok",
     "timestamp": 1643137070226,
     "user": {
      "displayName": "Ignorância Zero",
      "photoUrl": "https://lh3.googleusercontent.com/a/default-user=s64",
      "userId": "00329270583361032720"
     },
     "user_tz": 180
    },
    "id": "sV1tBirixdAi",
    "outputId": "0c9e2e04-0be0-48f9-c936-d0ef44dcd448"
   },
   "outputs": [],
   "source": [
    "np.apply_along_axis(\n",
    "    func1d=lambda x: 1 / (1 + np.exp(-x)),\n",
    "    axis=0,\n",
    "    arr=np.array([2, 3, 4])\n",
    ")"
   ]
  },
  {
   "cell_type": "markdown",
   "metadata": {
    "id": "K9bPOiBkfT00"
   },
   "source": [
    "A dúvida que você deve ter é porque usar? Bom, geralmente porque para operações simples ela costuma ser mais eficiente"
   ]
  },
  {
   "cell_type": "code",
   "execution_count": null,
   "metadata": {
    "colab": {
     "base_uri": "https://localhost:8080/"
    },
    "executionInfo": {
     "elapsed": 9609,
     "status": "ok",
     "timestamp": 1643137111953,
     "user": {
      "displayName": "Ignorância Zero",
      "photoUrl": "https://lh3.googleusercontent.com/a/default-user=s64",
      "userId": "00329270583361032720"
     },
     "user_tz": 180
    },
    "id": "zR7QGDwAxdAi",
    "outputId": "ee2295e5-a178-40bc-dbc5-ba32be70bc8a"
   },
   "outputs": [],
   "source": [
    "%%timeit\n",
    "func(np.array([2, 3, 4]))"
   ]
  },
  {
   "cell_type": "code",
   "execution_count": null,
   "metadata": {
    "colab": {
     "base_uri": "https://localhost:8080/"
    },
    "executionInfo": {
     "elapsed": 4852,
     "status": "ok",
     "timestamp": 1643137172934,
     "user": {
      "displayName": "Ignorância Zero",
      "photoUrl": "https://lh3.googleusercontent.com/a/default-user=s64",
      "userId": "00329270583361032720"
     },
     "user_tz": 180
    },
    "id": "szGBF7FHmnUT",
    "outputId": "4c702e96-1b34-4aa0-8fe0-98a4f8fb8374"
   },
   "outputs": [],
   "source": [
    "%%timeit\n",
    "np.apply_along_axis(\n",
    "    func1d=lambda x: 1 / (1 + np.exp(-x)),\n",
    "    axis=0,\n",
    "    arr=np.array([2, 3, 4])\n",
    ")"
   ]
  },
  {
   "cell_type": "markdown",
   "metadata": {
    "id": "ysOqdMrffT01"
   },
   "source": [
    "np.apply_over_axes -> Aplica uma função entre múltiplos eixos"
   ]
  },
  {
   "cell_type": "code",
   "execution_count": null,
   "metadata": {
    "colab": {
     "base_uri": "https://localhost:8080/"
    },
    "executionInfo": {
     "elapsed": 209,
     "status": "ok",
     "timestamp": 1643137281655,
     "user": {
      "displayName": "Ignorância Zero",
      "photoUrl": "https://lh3.googleusercontent.com/a/default-user=s64",
      "userId": "00329270583361032720"
     },
     "user_tz": 180
    },
    "id": "SVi47VkvxdAi",
    "outputId": "eb703a41-ac59-4140-ba10-4c6d7e7db3ec"
   },
   "outputs": [],
   "source": [
    "np.apply_over_axes(\n",
    "    func=lambda x, axes: x.any(axes),\n",
    "    axes=(2, 1),\n",
    "    a=np.random.choice([True, False], size=(10, 5, 3))\n",
    ")"
   ]
  },
  {
   "cell_type": "markdown",
   "metadata": {
    "id": "84sWD_6yfT01"
   },
   "source": [
    "---"
   ]
  },
  {
   "cell_type": "markdown",
   "metadata": {
    "ExecuteTime": {
     "end_time": "2021-09-16T15:18:30.851648Z",
     "start_time": "2021-09-16T15:18:30.835721Z"
    },
    "id": "Eyt1MgVSfT01"
   },
   "source": [
    "**Exercício**\n",
    "\n",
    "Calcule a razão entre valores mínimos e máximos para cada coluna de uma matriz 5x3"
   ]
  },
  {
   "cell_type": "code",
   "execution_count": null,
   "metadata": {
    "ExecuteTime": {
     "end_time": "2021-09-17T14:03:21.107163Z",
     "start_time": "2021-09-17T14:03:21.101178Z"
    },
    "id": "C9ltTuBzfT02",
    "solution2": "hidden",
    "solution2_first": true
   },
   "outputs": [],
   "source": [
    "np.random.seed(42)\n",
    "a = np.random.randint(1, 10, [5, 3])"
   ]
  },
  {
   "cell_type": "code",
   "execution_count": null,
   "metadata": {
    "cellView": "form",
    "id": "F6qD8rk4fT02",
    "solution2": "hidden"
   },
   "outputs": [],
   "source": [
    "#@title Resposta\n",
    "np.random.seed(42)\n",
    "a = np.random.randint(1, 10, [5, 3])\n",
    "np.apply_along_axis(lambda x: np.min(x)/np.max(x), arr=a, axis=0)"
   ]
  },
  {
   "cell_type": "markdown",
   "metadata": {
    "id": "uV4iCSuVfT02"
   },
   "source": [
    "---"
   ]
  },
  {
   "cell_type": "markdown",
   "metadata": {
    "id": "ypHPyfrBG4mv"
   },
   "source": [
    "## Concatenação"
   ]
  },
  {
   "cell_type": "markdown",
   "metadata": {
    "id": "Ho4a3pVAHEhl"
   },
   "source": [
    "Apesar de serem imutáveis, arrays podem ser concatenados para formar novos arrays por meio de funções específicas da biblioteca"
   ]
  },
  {
   "cell_type": "markdown",
   "metadata": {
    "id": "c0H6yzVAHLhD"
   },
   "source": [
    "np.concatenate -> Concatena dois arrays ao longo de um eixo determinado"
   ]
  },
  {
   "cell_type": "code",
   "execution_count": null,
   "metadata": {
    "colab": {
     "base_uri": "https://localhost:8080/"
    },
    "executionInfo": {
     "elapsed": 241,
     "status": "ok",
     "timestamp": 1643137415360,
     "user": {
      "displayName": "Ignorância Zero",
      "photoUrl": "https://lh3.googleusercontent.com/a/default-user=s64",
      "userId": "00329270583361032720"
     },
     "user_tz": 180
    },
    "id": "VWBYNHPpxdAk",
    "outputId": "dfae6436-d742-4f52-b12a-3319fd63aa1b"
   },
   "outputs": [],
   "source": [
    "a = np.array([1, 2, 3])\n",
    "b = np.array([4, 5, 6])\n",
    "print(np.concatenate([a, b]))"
   ]
  },
  {
   "cell_type": "code",
   "execution_count": null,
   "metadata": {
    "colab": {
     "base_uri": "https://localhost:8080/",
     "height": 235
    },
    "executionInfo": {
     "elapsed": 215,
     "status": "error",
     "timestamp": 1643137445830,
     "user": {
      "displayName": "Ignorância Zero",
      "photoUrl": "https://lh3.googleusercontent.com/a/default-user=s64",
      "userId": "00329270583361032720"
     },
     "user_tz": 180
    },
    "id": "_Weu7utpn320",
    "outputId": "7049efd9-d18c-403a-d9b2-242e3055d8aa"
   },
   "outputs": [],
   "source": [
    "print(np.concatenate([a, b], axis=0))\n",
    "print(np.concatenate([a, b], axis=1))"
   ]
  },
  {
   "cell_type": "code",
   "execution_count": null,
   "metadata": {
    "colab": {
     "base_uri": "https://localhost:8080/"
    },
    "executionInfo": {
     "elapsed": 203,
     "status": "ok",
     "timestamp": 1643137488660,
     "user": {
      "displayName": "Ignorância Zero",
      "photoUrl": "https://lh3.googleusercontent.com/a/default-user=s64",
      "userId": "00329270583361032720"
     },
     "user_tz": 180
    },
    "id": "Um-KdazGoCNS",
    "outputId": "c780b943-f282-4e0f-83cf-77edf65f571f"
   },
   "outputs": [],
   "source": [
    "a = np.array([[1, 2, 3]])\n",
    "b = np.array([[4, 5, 6]])\n",
    "print(np.concatenate([a, b]))\n",
    "print(np.concatenate([a, b], axis=0))\n",
    "print(np.concatenate([a, b], axis=1))"
   ]
  },
  {
   "cell_type": "markdown",
   "metadata": {
    "id": "_OraTDApHNdl"
   },
   "source": [
    "np.vstack -> Empilha arrays verticalmente (linha a linha)"
   ]
  },
  {
   "cell_type": "code",
   "execution_count": null,
   "metadata": {
    "colab": {
     "base_uri": "https://localhost:8080/"
    },
    "executionInfo": {
     "elapsed": 226,
     "status": "ok",
     "timestamp": 1643137559943,
     "user": {
      "displayName": "Ignorância Zero",
      "photoUrl": "https://lh3.googleusercontent.com/a/default-user=s64",
      "userId": "00329270583361032720"
     },
     "user_tz": 180
    },
    "id": "14nOES6TxdAk",
    "outputId": "b972d377-6b1a-4033-b9de-6bd238676235"
   },
   "outputs": [],
   "source": [
    "a = np.array([1, 2, 3])\n",
    "b = np.array([4, 5, 6])\n",
    "print(np.vstack([a, b]))"
   ]
  },
  {
   "cell_type": "code",
   "execution_count": null,
   "metadata": {
    "colab": {
     "base_uri": "https://localhost:8080/"
    },
    "executionInfo": {
     "elapsed": 220,
     "status": "ok",
     "timestamp": 1643137585488,
     "user": {
      "displayName": "Ignorância Zero",
      "photoUrl": "https://lh3.googleusercontent.com/a/default-user=s64",
      "userId": "00329270583361032720"
     },
     "user_tz": 180
    },
    "id": "WR_U7v2soawz",
    "outputId": "cef5fc27-7be7-4b2d-9f94-a6399453d54b"
   },
   "outputs": [],
   "source": [
    "a = np.array([[1, 2, 3]])\n",
    "b = np.array([[4, 5, 6]])\n",
    "print(np.vstack([a, b]))"
   ]
  },
  {
   "cell_type": "code",
   "execution_count": null,
   "metadata": {
    "colab": {
     "base_uri": "https://localhost:8080/"
    },
    "executionInfo": {
     "elapsed": 246,
     "status": "ok",
     "timestamp": 1643137632737,
     "user": {
      "displayName": "Ignorância Zero",
      "photoUrl": "https://lh3.googleusercontent.com/a/default-user=s64",
      "userId": "00329270583361032720"
     },
     "user_tz": 180
    },
    "id": "LExVybFHokIz",
    "outputId": "f28c6b37-6ad1-4f62-cd04-bcf73dca662b"
   },
   "outputs": [],
   "source": [
    "a = np.array([[1, 2, 3], [4, 5, 6]])\n",
    "b = np.array([[7, 8, 9], [10, 11, 12]])\n",
    "print(np.vstack([a, b]))"
   ]
  },
  {
   "cell_type": "code",
   "execution_count": null,
   "metadata": {
    "colab": {
     "base_uri": "https://localhost:8080/",
     "height": 391
    },
    "executionInfo": {
     "elapsed": 214,
     "status": "error",
     "timestamp": 1643137669186,
     "user": {
      "displayName": "Ignorância Zero",
      "photoUrl": "https://lh3.googleusercontent.com/a/default-user=s64",
      "userId": "00329270583361032720"
     },
     "user_tz": 180
    },
    "id": "gavLa0iNotoD",
    "outputId": "fe0c467c-69f8-4fbc-daee-ec5f53c6b5de"
   },
   "outputs": [],
   "source": [
    "a = np.array([[1, 2, 3], [4, 5, 6]])\n",
    "b = np.array([[7, 8], [10, 11]])\n",
    "print(np.vstack([a, b]))"
   ]
  },
  {
   "cell_type": "code",
   "execution_count": null,
   "metadata": {
    "colab": {
     "base_uri": "https://localhost:8080/",
     "height": 391
    },
    "executionInfo": {
     "elapsed": 219,
     "status": "error",
     "timestamp": 1643137736461,
     "user": {
      "displayName": "Ignorância Zero",
      "photoUrl": "https://lh3.googleusercontent.com/a/default-user=s64",
      "userId": "00329270583361032720"
     },
     "user_tz": 180
    },
    "id": "7T6su7sMo2Ci",
    "outputId": "6d0b8b2e-9173-4425-fd09-f143bc908749"
   },
   "outputs": [],
   "source": [
    "a = np.array([[1, 2, 3], [4, 5, 6]])\n",
    "b = np.array([[7], [10]])\n",
    "print(np.vstack([a, b]))"
   ]
  },
  {
   "cell_type": "code",
   "execution_count": null,
   "metadata": {
    "colab": {
     "base_uri": "https://localhost:8080/"
    },
    "executionInfo": {
     "elapsed": 208,
     "status": "ok",
     "timestamp": 1643137780296,
     "user": {
      "displayName": "Ignorância Zero",
      "photoUrl": "https://lh3.googleusercontent.com/a/default-user=s64",
      "userId": "00329270583361032720"
     },
     "user_tz": 180
    },
    "id": "qr7RawOFpJiG",
    "outputId": "3aeea6e4-efc6-40ed-a98a-7116992ca990"
   },
   "outputs": [],
   "source": [
    "a = np.array([[1, 2, 3], [4, 5, 6]])\n",
    "b = np.array([[7, 8, 9]])\n",
    "print(np.vstack([a, b]))"
   ]
  },
  {
   "cell_type": "markdown",
   "metadata": {
    "id": "EJ7d6AnFHQYa"
   },
   "source": [
    "np.hstack -> Empilha arrays horizontalmente (coluna a coluna)"
   ]
  },
  {
   "cell_type": "code",
   "execution_count": null,
   "metadata": {
    "colab": {
     "base_uri": "https://localhost:8080/"
    },
    "executionInfo": {
     "elapsed": 207,
     "status": "ok",
     "timestamp": 1643137809752,
     "user": {
      "displayName": "Ignorância Zero",
      "photoUrl": "https://lh3.googleusercontent.com/a/default-user=s64",
      "userId": "00329270583361032720"
     },
     "user_tz": 180
    },
    "id": "T3HhdT-4xdAk",
    "outputId": "c50bf432-47f0-4774-d56c-8adc853e36c3"
   },
   "outputs": [],
   "source": [
    "a = np.array([1, 2, 3])\n",
    "b = np.array([4, 5, 6])\n",
    "print(np.hstack([a, b]))"
   ]
  },
  {
   "cell_type": "code",
   "execution_count": null,
   "metadata": {
    "colab": {
     "base_uri": "https://localhost:8080/"
    },
    "executionInfo": {
     "elapsed": 201,
     "status": "ok",
     "timestamp": 1643137823130,
     "user": {
      "displayName": "Ignorância Zero",
      "photoUrl": "https://lh3.googleusercontent.com/a/default-user=s64",
      "userId": "00329270583361032720"
     },
     "user_tz": 180
    },
    "id": "4tt1CrbVpU8T",
    "outputId": "defac69d-b346-4e4d-fab7-58bdaf9eaaa3"
   },
   "outputs": [],
   "source": [
    "a = np.array([[1, 2, 3]])\n",
    "b = np.array([[4, 5, 6]])\n",
    "print(np.hstack([a, b]))"
   ]
  },
  {
   "cell_type": "code",
   "execution_count": null,
   "metadata": {
    "colab": {
     "base_uri": "https://localhost:8080/"
    },
    "executionInfo": {
     "elapsed": 227,
     "status": "ok",
     "timestamp": 1643137846185,
     "user": {
      "displayName": "Ignorância Zero",
      "photoUrl": "https://lh3.googleusercontent.com/a/default-user=s64",
      "userId": "00329270583361032720"
     },
     "user_tz": 180
    },
    "id": "dGtjXEjupbcj",
    "outputId": "ccbfd905-33fb-4403-d0aa-05857a6927c8"
   },
   "outputs": [],
   "source": [
    "a = np.array([[1, 2, 3], [4, 5, 6]])\n",
    "b = np.array([[7, 8, 9], [10, 11, 12]])\n",
    "print(np.hstack([a, b]))"
   ]
  },
  {
   "cell_type": "code",
   "execution_count": null,
   "metadata": {
    "colab": {
     "base_uri": "https://localhost:8080/",
     "height": 391
    },
    "executionInfo": {
     "elapsed": 251,
     "status": "error",
     "timestamp": 1643137868276,
     "user": {
      "displayName": "Ignorância Zero",
      "photoUrl": "https://lh3.googleusercontent.com/a/default-user=s64",
      "userId": "00329270583361032720"
     },
     "user_tz": 180
    },
    "id": "GxJnZObVpg_T",
    "outputId": "a21c99ea-3a5e-435c-932c-cadb9c80ec5a"
   },
   "outputs": [],
   "source": [
    "a = np.array([[1, 2, 3], [4, 5, 6]])\n",
    "b = np.array([[7, 8, 9]])\n",
    "print(np.hstack([a, b]))"
   ]
  },
  {
   "cell_type": "code",
   "execution_count": null,
   "metadata": {
    "colab": {
     "base_uri": "https://localhost:8080/"
    },
    "executionInfo": {
     "elapsed": 350,
     "status": "ok",
     "timestamp": 1643137897315,
     "user": {
      "displayName": "Ignorância Zero",
      "photoUrl": "https://lh3.googleusercontent.com/a/default-user=s64",
      "userId": "00329270583361032720"
     },
     "user_tz": 180
    },
    "id": "7BC12UFNpoET",
    "outputId": "794ce219-e18c-43af-f39f-7c05a65c7553"
   },
   "outputs": [],
   "source": [
    "a = np.array([[1, 2, 3], [4, 5, 6]])\n",
    "b = np.array([[7], [10]])\n",
    "print(np.hstack([a, b]))"
   ]
  },
  {
   "cell_type": "markdown",
   "metadata": {
    "id": "WmEo2C1EHUA4"
   },
   "source": [
    "np.append -> Adiciona um novo elemento ao final de um array. Se o array for >1-D, converte o array para 1-D"
   ]
  },
  {
   "cell_type": "code",
   "execution_count": null,
   "metadata": {
    "colab": {
     "base_uri": "https://localhost:8080/"
    },
    "executionInfo": {
     "elapsed": 205,
     "status": "ok",
     "timestamp": 1643137957358,
     "user": {
      "displayName": "Ignorância Zero",
      "photoUrl": "https://lh3.googleusercontent.com/a/default-user=s64",
      "userId": "00329270583361032720"
     },
     "user_tz": 180
    },
    "id": "1CP3adqnxdAk",
    "outputId": "92062cea-0e8a-44c0-f464-06c3f2c5bc5c"
   },
   "outputs": [],
   "source": [
    "a = np.array([1, 2, 3])\n",
    "b = np.array([4, 5, 6])\n",
    "print(np.append(a, b))"
   ]
  },
  {
   "cell_type": "code",
   "execution_count": null,
   "metadata": {
    "colab": {
     "base_uri": "https://localhost:8080/"
    },
    "executionInfo": {
     "elapsed": 215,
     "status": "ok",
     "timestamp": 1643137984531,
     "user": {
      "displayName": "Ignorância Zero",
      "photoUrl": "https://lh3.googleusercontent.com/a/default-user=s64",
      "userId": "00329270583361032720"
     },
     "user_tz": 180
    },
    "id": "kMFdQ2svp70j",
    "outputId": "f2f422ad-5bbe-40a3-bdbf-997c5af0e4c4"
   },
   "outputs": [],
   "source": [
    "a = np.array([[1, 2, 3]])\n",
    "b = np.array([[4, 5, 6]])\n",
    "print(np.append(a, b))"
   ]
  },
  {
   "cell_type": "code",
   "execution_count": null,
   "metadata": {
    "colab": {
     "base_uri": "https://localhost:8080/"
    },
    "executionInfo": {
     "elapsed": 216,
     "status": "ok",
     "timestamp": 1643138068267,
     "user": {
      "displayName": "Ignorância Zero",
      "photoUrl": "https://lh3.googleusercontent.com/a/default-user=s64",
      "userId": "00329270583361032720"
     },
     "user_tz": 180
    },
    "id": "B1SlvJFTqRDA",
    "outputId": "2cf6d70e-43b7-408d-a786-9620b404d028"
   },
   "outputs": [],
   "source": [
    "a = np.array([[1, 2, 3], [4, 5, 6]])\n",
    "b = np.array([[7, 8, 9], [10, 11, 12]])\n",
    "print(np.append(a, b))"
   ]
  },
  {
   "cell_type": "code",
   "execution_count": null,
   "metadata": {
    "colab": {
     "base_uri": "https://localhost:8080/"
    },
    "executionInfo": {
     "elapsed": 199,
     "status": "ok",
     "timestamp": 1643138120616,
     "user": {
      "displayName": "Ignorância Zero",
      "photoUrl": "https://lh3.googleusercontent.com/a/default-user=s64",
      "userId": "00329270583361032720"
     },
     "user_tz": 180
    },
    "id": "PpWkn6slqdnR",
    "outputId": "beba8e18-01d7-4a84-ee0f-497e797eaca5"
   },
   "outputs": [],
   "source": [
    "a = np.array([[1, 2, 3], [4, 5, 6]])\n",
    "b = np.array([[7, 8], [10, 11]])\n",
    "print(np.append(a, b))"
   ]
  },
  {
   "cell_type": "code",
   "execution_count": null,
   "metadata": {
    "colab": {
     "base_uri": "https://localhost:8080/"
    },
    "executionInfo": {
     "elapsed": 300,
     "status": "ok",
     "timestamp": 1643138074726,
     "user": {
      "displayName": "Ignorância Zero",
      "photoUrl": "https://lh3.googleusercontent.com/a/default-user=s64",
      "userId": "00329270583361032720"
     },
     "user_tz": 180
    },
    "id": "nnG1Qkz8qI2j",
    "outputId": "50982ddb-3246-4148-917e-c58b7ce29769"
   },
   "outputs": [],
   "source": [
    "print(a, a.flatten())"
   ]
  },
  {
   "cell_type": "markdown",
   "metadata": {
    "id": "M_LbCSBofT08"
   },
   "source": [
    "---"
   ]
  },
  {
   "cell_type": "markdown",
   "metadata": {
    "id": "jJlNqtlYfT08"
   },
   "source": [
    "**Exercício**\n",
    "\n",
    "Dado um array de números inteiros adicione os números faltantes entre os valores mínimos e máximos ao final do array"
   ]
  },
  {
   "cell_type": "code",
   "execution_count": null,
   "metadata": {
    "ExecuteTime": {
     "end_time": "2021-09-16T17:16:36.193807Z",
     "start_time": "2021-09-16T17:16:36.179844Z"
    },
    "id": "b32Cr9-1fT08",
    "solution2": "hidden",
    "solution2_first": true
   },
   "outputs": [],
   "source": [
    "np.random.seed(42)\n",
    "arr = np.random.randint(0, 10, size=6)"
   ]
  },
  {
   "cell_type": "code",
   "execution_count": null,
   "metadata": {
    "cellView": "form",
    "id": "ISpLgStYfT08",
    "solution2": "hidden"
   },
   "outputs": [],
   "source": [
    "#@title Resposta\n",
    "np.random.seed(42)\n",
    "arr = np.random.randint(0, 10, size=6)\n",
    "adicionar = np.setdiff1d(np.arange(np.min(arr), np.max(arr) + 1), arr)\n",
    "arr = np.hstack([arr, adicionar])\n",
    "arr"
   ]
  },
  {
   "cell_type": "markdown",
   "metadata": {
    "id": "s3SjguIJfT09"
   },
   "source": [
    "---"
   ]
  },
  {
   "cell_type": "markdown",
   "metadata": {
    "id": "8sQSpLv3fT09"
   },
   "source": [
    "## O que mais?"
   ]
  },
  {
   "cell_type": "markdown",
   "metadata": {
    "id": "xOkGqMlVfT09"
   },
   "source": [
    "Muito mais. O Numpy é uma bibliotecas extremamente extensa, que permite fazer operações com texto, datas, criar modelos de regressão, trabalhar com polinômios e realizar múltiplas transformações que envolvem desde processamento de sinais até trabalho de imagens e algebra linear clássica.\n",
    "\n",
    "Poderia fazer um curso de 10h só pra falar de tudo o que o numpy tem a oferecer, entretanto aqui nós passamos apenas as principais funcionalidades que vão cobrir 90-95% das situações que serão encontradas no dia a dia de um cientista de dados.\n",
    "\n",
    "Entretanto se você quiser algo mais completo, veja abaixo algumas sugestões:\n",
    "\n",
    "- https://numpy.org/learn/\n",
    "- https://www.youtube.com/watch?v=cYugp9IN1-Q&ab_channel=Enthought\n",
    "- https://scipy-lectures.org/advanced/advanced_numpy/\n",
    "- https://www.oreilly.com/library/view/python-for-data/9781449323592/\n",
    "- https://www.kaggle.com/utsav15/100-numpy-exercises\n",
    "- https://www.geeksforgeeks.org/python-numpy-practice-exercises-questions-and-solutions/\n",
    "- https://www.machinelearningplus.com/python/101-numpy-exercises-python/"
   ]
  },
  {
   "cell_type": "markdown",
   "metadata": {
    "id": "Lf8l3dC2fT09"
   },
   "source": [
    "---"
   ]
  }
 ],
 "metadata": {
  "colab": {
   "collapsed_sections": [],
   "name": "Numpy (Code Along).ipynb",
   "provenance": [
    {
     "file_id": "1Zjzqmqz8GA90zNRssvqBvhQCp3vcA2Hl",
     "timestamp": 1642854938623
    }
   ],
   "toc_visible": true
  },
  "hide_input": false,
  "kernelspec": {
   "display_name": "Python 3 (ipykernel)",
   "language": "python",
   "name": "python3"
  },
  "language_info": {
   "codemirror_mode": {
    "name": "ipython",
    "version": 3
   },
   "file_extension": ".py",
   "mimetype": "text/x-python",
   "name": "python",
   "nbconvert_exporter": "python",
   "pygments_lexer": "ipython3",
   "version": "3.9.7"
  },
  "toc": {
   "base_numbering": 1,
   "nav_menu": {},
   "number_sections": true,
   "sideBar": true,
   "skip_h1_title": true,
   "title_cell": "Table of Contents",
   "title_sidebar": "Contents",
   "toc_cell": false,
   "toc_position": {
    "height": "calc(100% - 180px)",
    "left": "10px",
    "top": "150px",
    "width": "304.475px"
   },
   "toc_section_display": true,
   "toc_window_display": true
  },
  "varInspector": {
   "cols": {
    "lenName": 16,
    "lenType": 16,
    "lenVar": 40
   },
   "kernels_config": {
    "python": {
     "delete_cmd_postfix": "",
     "delete_cmd_prefix": "del ",
     "library": "var_list.py",
     "varRefreshCmd": "print(var_dic_list())"
    },
    "r": {
     "delete_cmd_postfix": ") ",
     "delete_cmd_prefix": "rm(",
     "library": "var_list.r",
     "varRefreshCmd": "cat(var_dic_list()) "
    }
   },
   "types_to_exclude": [
    "module",
    "function",
    "builtin_function_or_method",
    "instance",
    "_Feature"
   ],
   "window_display": false
  }
 },
 "nbformat": 4,
 "nbformat_minor": 1
}
